{
 "cells": [
  {
   "cell_type": "markdown",
   "id": "b036aff2-b1f2-442e-bbb3-d94c284fd3de",
   "metadata": {},
   "source": [
    "### Implement a decorator function called ‘timer’ that measures the execution time of a function. The ‘timer’ decorator should print the time taken by the decorated function to execute. Use the ‘time’ module in Python to calculate the execution time.\n",
    "\n",
    "### Example:\n",
    "\n",
    "### import time\n",
    "\n",
    "### @timer\n",
    "### def my_function():\n",
    "###     # Function code goes here\n",
    "###     time.sleep(2)\n",
    "\n",
    "### my_function()\n",
    "\n",
    "### Output:\n",
    "### \"Execution time: 2.00123 seconds\"\n",
    "\n"
   ]
  },
  {
   "cell_type": "code",
   "execution_count": 3,
   "id": "698a9328-89c0-43f1-8905-52996ac13e30",
   "metadata": {},
   "outputs": [
    {
     "name": "stdout",
     "output_type": "stream",
     "text": [
      "Execution time is: 2.00147 seconds\n"
     ]
    }
   ],
   "source": [
    "import time\n",
    "\n",
    "def timer(func):\n",
    "    def wrapper(*args, **kwargs):\n",
    "        start_time = time.time()\n",
    "        result = func(*args, **kwargs)\n",
    "        end_time = time.time()\n",
    "        execution_time = end_time - start_time\n",
    "        print(f\"Execution time is: {execution_time:.5f} seconds\")\n",
    "        return result\n",
    "    return wrapper\n",
    "\n",
    "@timer\n",
    "def fun():\n",
    "    time.sleep(2)\n",
    "\n",
    "fun()\n"
   ]
  },
  {
   "cell_type": "code",
   "execution_count": null,
   "id": "16ec9cba-f474-4436-8ecc-61eae6ce60d5",
   "metadata": {},
   "outputs": [],
   "source": []
  }
 ],
 "metadata": {
  "kernelspec": {
   "display_name": "Python 3 (ipykernel)",
   "language": "python",
   "name": "python3"
  },
  "language_info": {
   "codemirror_mode": {
    "name": "ipython",
    "version": 3
   },
   "file_extension": ".py",
   "mimetype": "text/x-python",
   "name": "python",
   "nbconvert_exporter": "python",
   "pygments_lexer": "ipython3",
   "version": "3.10.8"
  }
 },
 "nbformat": 4,
 "nbformat_minor": 5
}
