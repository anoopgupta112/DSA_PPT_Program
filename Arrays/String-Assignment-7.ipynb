{
 "cells": [
  {
   "cell_type": "markdown",
   "id": "c05e562e-14ae-4483-a354-9be60b1a1711",
   "metadata": {},
   "source": [
    "### 💡 **Question 1**\n",
    "\n",
    "### Given two strings s and t, *determine if they are isomorphic*.\n",
    "\n",
    "### Two strings s and t are isomorphic if the characters in s can be replaced to get t.\n",
    "\n",
    "### All occurrences of a character must be replaced with another character while preserving the order of characters. No two characters may map to the same character, but a character may map to itself.\n",
    "\n",
    "### **Example 1:**\n",
    "\n",
    "### **Input:** s = \"egg\", t = \"add\"\n",
    "\n",
    "### **Output:** true\n",
    "\n",
    "### "
   ]
  },
  {
   "cell_type": "code",
   "execution_count": 6,
   "id": "6c86dda2-b38c-4eee-8427-2e1f700d71db",
   "metadata": {},
   "outputs": [
    {
     "data": {
      "text/plain": [
       "True"
      ]
     },
     "execution_count": 6,
     "metadata": {},
     "output_type": "execute_result"
    }
   ],
   "source": [
    "def isIsomorphic(s, t):\n",
    "        map1 = []\n",
    "        map2 = []\n",
    "        for idx in s:\n",
    "            map1.append(s.index(idx))\n",
    "        for idx in t:\n",
    "            map2.append(t.index(idx))\n",
    "        if map1 == map2:\n",
    "            return True\n",
    "        return False\n",
    "    \n",
    "isIsomorphic(\"egg\",\"add\")"
   ]
  },
  {
   "cell_type": "markdown",
   "id": "e4be9384-64a7-4d3d-9118-27746cb45d73",
   "metadata": {},
   "source": [
    "### 💡 **Question 2**\n",
    "\n",
    "### Given a string num which represents an integer, return true *if* num *is a **strobogrammatic number***.\n",
    "\n",
    "### A **strobogrammatic number** is a number that looks the same when rotated 180 degrees (looked at upside down).\n",
    "\n",
    "### **Example 1:**\n",
    "\n",
    "### **Input:** num = \"69\"\n",
    "\n",
    "### **Output:**\n",
    "\n",
    "### true\n",
    "\n"
   ]
  },
  {
   "cell_type": "code",
   "execution_count": 4,
   "id": "e5992c2f-c27e-490a-9dc6-cfb83a52c2c0",
   "metadata": {},
   "outputs": [
    {
     "data": {
      "text/plain": [
       "True"
      ]
     },
     "execution_count": 4,
     "metadata": {},
     "output_type": "execute_result"
    }
   ],
   "source": [
    "def is_strobogrammatic(num):\n",
    "    for i in range(len(num)//2 + 1):\n",
    "        j = len(num) - i - 1\n",
    "        if num[i] + num[j] not in [\"00\", \"11\", \"88\", \"69\", \"96\"]:\n",
    "            return False\n",
    "    return True\n",
    "\n",
    "\n",
    "is_strobogrammatic(\"69\")\n"
   ]
  },
  {
   "cell_type": "markdown",
   "id": "77f41a31-6c73-4c16-ad93-772be3ff290d",
   "metadata": {},
   "source": [
    "### 💡 **Question 3**\n",
    "\n",
    "### Given two non-negative integers, num1 and num2 represented as string, return *the sum of* num1 *and* num2 *as a string*.\n",
    "\n",
    "### You must solve the problem without using any built-in library for handling large integers (such as BigInteger). You must also not convert the inputs to integers directly.\n",
    "\n",
    "### **Example 1:**\n",
    "\n",
    "### **Input:** num1 = \"11\", num2 = \"123\"\n",
    "\n",
    "### **Output:**\n",
    "\n",
    "### \"134\"\n",
    "\n"
   ]
  },
  {
   "cell_type": "code",
   "execution_count": 1,
   "id": "c5493d8d-8a21-4b51-970f-011f297646b9",
   "metadata": {},
   "outputs": [
    {
     "data": {
      "text/plain": [
       "'134'"
      ]
     },
     "execution_count": 1,
     "metadata": {},
     "output_type": "execute_result"
    }
   ],
   "source": [
    "  def addStrings(num1, num2):\n",
    "    ans = []\n",
    "    carry = 0\n",
    "    i = len(num1) - 1\n",
    "    j = len(num2) - 1\n",
    "\n",
    "    while i >= 0 or j >= 0 or carry:\n",
    "        if i >= 0:\n",
    "            carry += int(num1[i])\n",
    "        if j >= 0:\n",
    "            carry += int(num2[j])\n",
    "        ans.append(str(carry % 10))\n",
    "        carry //= 10\n",
    "        i -= 1\n",
    "        j -= 1\n",
    "\n",
    "    return ''.join(ans[::-1])\n",
    "\n",
    "addStrings(\"123\",\"11\")"
   ]
  },
  {
   "cell_type": "markdown",
   "id": "d7c8f2ad-0f39-4723-9554-b5f541580bfb",
   "metadata": {},
   "source": [
    "### 💡 **Question 4**\n",
    "\n",
    "### Given a string s, reverse the order of characters in each word within a sentence while still preserving whitespace and initial word order.\n",
    "\n",
    "### **Example 1:**\n",
    "\n",
    "### **Input:** s = \"Let's take LeetCode contest\"\n",
    "\n",
    "### **Output:** \"s'teL ekat edoCteeL tsetnoc\"\n",
    "\n"
   ]
  },
  {
   "cell_type": "code",
   "execution_count": 13,
   "id": "402bc6b2-8f75-4331-bff3-62c4d90ff77b",
   "metadata": {},
   "outputs": [
    {
     "data": {
      "text/plain": [
       "\"s'teL ekat edoCteeL tsetnoc\""
      ]
     },
     "execution_count": 13,
     "metadata": {},
     "output_type": "execute_result"
    }
   ],
   "source": [
    "def reverseStr(s):\n",
    "    words = s.split()\n",
    "    ans = \"\"\n",
    "    for idx, i in enumerate(words):\n",
    "        ans += i[::-1]\n",
    "        if idx != len(words)-1:\n",
    "            ans += \" \"\n",
    "    return ans\n",
    "\n",
    "        \n",
    "reverseStr(\"Let's take LeetCode contest\")"
   ]
  },
  {
   "cell_type": "markdown",
   "id": "d5dd7cc4-47e0-4c44-be19-f34223f7ff8a",
   "metadata": {},
   "source": [
    "### 💡 **Question 5**\n",
    "\n",
    "### Given a string s and an integer k, reverse the first k characters for every 2k characters counting from the start of the string.\n",
    "\n",
    "### If there are fewer than k characters left, reverse all of them. If there are less than 2k but greater than or equal to k characters, then reverse the first k characters and leave the other as original.\n",
    "\n",
    "### **Example 1:**\n",
    "\n",
    "### **Input:** s = \"abcdefg\", k = 2\n",
    "\n",
    "### **Output:**\n",
    "\n",
    "### \"bacdfeg\"\n",
    "\n"
   ]
  },
  {
   "cell_type": "code",
   "execution_count": 14,
   "id": "70c9df31-0009-4f2d-a437-8e5a19c4f0c5",
   "metadata": {},
   "outputs": [
    {
     "data": {
      "text/plain": [
       "'bacdfeg'"
      ]
     },
     "execution_count": 14,
     "metadata": {},
     "output_type": "execute_result"
    }
   ],
   "source": [
    "def reverseStrfun(s, k):\n",
    "        temp = []\n",
    "        first = 0\n",
    "        last = k-1                 \n",
    "        while (first <= len(s)-1):     \n",
    "            if last > len(s)-1:\n",
    "                last = len(s) - 1\n",
    "            while(last >= first): \n",
    "                temp.append(s[last])  \n",
    "                last = last - 1\n",
    "            first = first + k                 \n",
    "            last = first + (k-1)\n",
    "            while(last >= first):\n",
    "                if first > len(s)-1:\n",
    "                    break\n",
    "                temp.append(s[first])  \n",
    "                first = first + 1                \n",
    "            last = first + (k-1)       \n",
    "        return ''.join(temp)\n",
    "    \n",
    "reverseStrfun(\"abcdefg\", 2)"
   ]
  },
  {
   "cell_type": "markdown",
   "id": "d3cf6e76-2cbb-4eb4-ab15-4ef03ba1e0fd",
   "metadata": {},
   "source": [
    "### 💡 **Question 6**\n",
    "\n",
    "### Given two strings s and goal, return true *if and only if* s *can become* goal *after some number of **shifts** on* s.\n",
    "\n",
    "### A **shift** on s consists of moving the leftmost character of s to the rightmost position.\n",
    "\n",
    "### - For example, if s = \"abcde\", then it will be \"bcdea\" after one shift.\n",
    "\n",
    "### **Example 1:**\n",
    "\n",
    "### **Input:** s = \"abcde\", goal = \"cdeab\"\n",
    "\n",
    "### **Output:**\n",
    "\n",
    "### true\n",
    "\n"
   ]
  },
  {
   "cell_type": "code",
   "execution_count": 26,
   "id": "57e915a4-33c0-466c-ac2b-dcdb23fb432d",
   "metadata": {},
   "outputs": [
    {
     "data": {
      "text/plain": [
       "True"
      ]
     },
     "execution_count": 26,
     "metadata": {},
     "output_type": "execute_result"
    }
   ],
   "source": [
    "def rotateString(s: str, goal: str) -> bool:\n",
    "        if s == goal:\n",
    "            return True\n",
    "\n",
    "        s, goal = [*s], [*goal] \n",
    "\n",
    "        for x in range(len(s)):\n",
    "            a = s[0]\n",
    "            s.pop(0); s.append(a)\n",
    "\n",
    "            if s == goal:\n",
    "                return True\n",
    "\n",
    "        return False\n",
    "\n",
    "rotateString(\"abcde\",\"cdeab\")"
   ]
  },
  {
   "cell_type": "markdown",
   "id": "b20a7573-a8fc-4ceb-8745-0b4fe662b75e",
   "metadata": {},
   "source": [
    "### 💡 **Question 7**\n",
    "\n",
    "### Given two strings s and t, return true *if they are equal when both are typed into empty text editors*. '#' means a backspace character.\n",
    "\n",
    "### Note that after backspacing an empty text, the text will continue empty.\n",
    "\n",
    "### **Example 1:**\n",
    "\n",
    "### **Input:** s = \"ab#c\", t = \"ad#c\"\n",
    "\n",
    "### **Output:** true\n",
    "\n",
    "### **Explanation:**\n",
    "\n",
    "### Both s and t become \"ac\".\n",
    "\n"
   ]
  },
  {
   "cell_type": "code",
   "execution_count": 6,
   "id": "c1188a4b-fa83-4cd7-ab94-4fa01d3ee050",
   "metadata": {},
   "outputs": [
    {
     "data": {
      "text/plain": [
       "True"
      ]
     },
     "execution_count": 6,
     "metadata": {},
     "output_type": "execute_result"
    }
   ],
   "source": [
    "def checkEqual(s,t):\n",
    "    val1, val2 = \"\",\"\"\n",
    "    if \"#\" in s:\n",
    "        val1 = s[0:s.index(\"#\")-2] + s[s.index(\"#\")+1:]\n",
    "        \n",
    "    if \"#\" in t:\n",
    "        val2 = t[0:t.index(\"#\")-2] + t[t.index(\"#\")+1:]\n",
    "        \n",
    "    if val1 == val2:\n",
    "        return True\n",
    "    else:\n",
    "        return False\n",
    "        \n",
    "checkEqual(\"ab#c\", \"ab#c\")\n",
    "    "
   ]
  },
  {
   "cell_type": "markdown",
   "id": "df188140-f450-4144-9a0c-cff6ef2d0c01",
   "metadata": {},
   "source": [
    "### 💡 **Question 8**\n",
    "\n",
    "### You are given an array coordinates, coordinates[i] = [x, y], where [x, y] represents the coordinate of a point. Check if these points make a straight line in the XY plane.\n",
    "\n",
    "### **Example 1:**\n",
    "\n",
    "\n",
    "\n",
    "### **Input:** coordinates = [[1,2],[2,3],[3,4],[4,5],[5,6],[6,7]]\n",
    "\n",
    "### **Output:** true\n",
    "\n"
   ]
  },
  {
   "cell_type": "code",
   "execution_count": 13,
   "id": "7b28bee5-9d43-4552-809c-755d51f4c7bb",
   "metadata": {},
   "outputs": [
    {
     "data": {
      "text/plain": [
       "True"
      ]
     },
     "execution_count": 13,
     "metadata": {},
     "output_type": "execute_result"
    }
   ],
   "source": [
    "def checkCoor(coordinates):\n",
    "        x0, y0 = coordinates[0]\n",
    "        x1, y1 = coordinates[1]\n",
    "\n",
    "        for i in range(2, len(coordinates)):\n",
    "            x, y = coordinates[i]\n",
    "            if (x - x0) * (y1 - y0) != (y - y0) * (x1 - x0):\n",
    "                return False\n",
    "            \n",
    "        return True\n",
    "\n",
    "coordinates = [[1,2],[2,3],[3,4],[4,5],[5,6],[6,7]]\n",
    "checkCoor(coordinates)"
   ]
  },
  {
   "cell_type": "code",
   "execution_count": null,
   "id": "4c1c5f99-85c0-4e2e-ae79-3e3942bb0162",
   "metadata": {},
   "outputs": [],
   "source": []
  }
 ],
 "metadata": {
  "kernelspec": {
   "display_name": "Python 3 (ipykernel)",
   "language": "python",
   "name": "python3"
  },
  "language_info": {
   "codemirror_mode": {
    "name": "ipython",
    "version": 3
   },
   "file_extension": ".py",
   "mimetype": "text/x-python",
   "name": "python",
   "nbconvert_exporter": "python",
   "pygments_lexer": "ipython3",
   "version": "3.10.8"
  }
 },
 "nbformat": 4,
 "nbformat_minor": 5
}
