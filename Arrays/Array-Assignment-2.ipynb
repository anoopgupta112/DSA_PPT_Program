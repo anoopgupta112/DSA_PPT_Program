{
 "cells": [
  {
   "cell_type": "markdown",
   "id": "fbdd0dd9-c762-4194-a8a5-b14a1c0e77f7",
   "metadata": {},
   "source": [
    "### \n",
    "### 💡 **Question 1**\n",
    "### Given an integer array nums of 2n integers, group these integers into n pairs (a1, b1), (a2, b2),..., (an, bn) such that the sum of min(ai, bi) for all i is maximized. Return the maximized sum.\n",
    "\n",
    "### **Example 1:**\n",
    "### Input: nums = [1,4,3,2]\n",
    "### Output: 4\n",
    "\n",
    "### **Explanation:** All possible pairings (ignoring the ordering of elements) are:\n",
    "\n",
    "### 1. (1, 4), (2, 3) -> min(1, 4) + min(2, 3) = 1 + 2 = 3\n",
    "### 2. (1, 3), (2, 4) -> min(1, 3) + min(2, 4) = 1 + 2 = 3\n",
    "### 3. (1, 2), (3, 4) -> min(1, 2) + min(3, 4) = 1 + 3 = 4\n",
    "### So the maximum possible sum is 4\n"
   ]
  },
  {
   "cell_type": "code",
   "execution_count": 1,
   "id": "1b7aec64-3f90-4804-8adb-cc99d1097698",
   "metadata": {},
   "outputs": [
    {
     "data": {
      "text/plain": [
       "4"
      ]
     },
     "execution_count": 1,
     "metadata": {},
     "output_type": "execute_result"
    }
   ],
   "source": [
    "class Solution:\n",
    "    def arrayPairSum(self, nums) -> int:\n",
    "\n",
    "        nums.sort()\n",
    "        i = 0\n",
    "        result = 0\n",
    "        while i<len(nums)-1:\n",
    "            result += nums[i]\n",
    "\n",
    "            i += 2\n",
    "        return result\n",
    "    \n",
    "obj = Solution()\n",
    "obj.arrayPairSum([1,4,3,2])"
   ]
  },
  {
   "cell_type": "markdown",
   "id": "f8727620-e8b4-4217-8793-a1074e8eb9c2",
   "metadata": {},
   "source": [
    "### Question 2\n",
    "### Alice has n candies, where the ith candy is of type candyType[i]. Alice noticed that she started to gain weight, so she visited a doctor. \n",
    "\n",
    "### The doctor advised Alice to only eat n / 2 of the candies she has (n is always even). Alice likes her candies very much, and she wants to eat the maximum number of different types of candies while still following the doctor's advice. \n",
    "\n",
    "### Given the integer array candyType of length n, return the maximum number of different types of candies she can eat if she only eats n / 2 of them.\n",
    "\n",
    "### Example 1:\n",
    "### Input: candyType = [1,1,2,2,3,3]\n",
    "### Output: 3\n",
    "\n",
    "### Explanation: Alice can only eat 6 / 2 = 3 candies. Since there are only 3 types, she can eat one of each type."
   ]
  },
  {
   "cell_type": "code",
   "execution_count": 3,
   "id": "1cc1914b-2acc-4b4b-91a5-562ae097bc38",
   "metadata": {},
   "outputs": [
    {
     "data": {
      "text/plain": [
       "3"
      ]
     },
     "execution_count": 3,
     "metadata": {},
     "output_type": "execute_result"
    }
   ],
   "source": [
    "class Solution:\n",
    "    def arrayPairSum(self, nums) -> int:\n",
    "        \n",
    "        return max(len(nums)//2,len(set(nums)))\n",
    "\n",
    "\n",
    "    \n",
    "obj = Solution()\n",
    "obj.arrayPairSum([1,1,2,2,3,3])"
   ]
  },
  {
   "cell_type": "markdown",
   "id": "0bbc3009-ed9f-40e0-94ce-48e8adc51469",
   "metadata": {},
   "source": [
    "### Question 3\n",
    "### We define a harmonious array as an array where the difference between its maximum value\n",
    "### and its minimum value is exactly 1.\n",
    "\n",
    "### Given an integer array nums, return the length of its longest harmonious subsequence\n",
    "### among all its possible subsequences.\n",
    "\n",
    "### A subsequence of an array is a sequence that can be derived from the array by deleting some or no elements without changing the order of the remaining elements.\n",
    "\n",
    "### Example 1:\n",
    "### Input: nums = [1,3,2,2,5,2,3,7]\n",
    "### Output: 5\n",
    "\n",
    "### xplanation: The longest harmonious subsequence is [3,2,2,2,3]."
   ]
  },
  {
   "cell_type": "code",
   "execution_count": 6,
   "id": "29d53577-4354-49f6-816f-f41a004f46ce",
   "metadata": {},
   "outputs": [
    {
     "data": {
      "text/plain": [
       "5"
      ]
     },
     "execution_count": 6,
     "metadata": {},
     "output_type": "execute_result"
    }
   ],
   "source": [
    "from collections import Counter\n",
    "class Solution:\n",
    "    def findLHS(self, nums) -> int:\n",
    "\n",
    "        ans = 0\n",
    "        counter = Counter(nums)\n",
    "\n",
    "        for num, freq in counter.items():\n",
    "            if num + 1 in counter:\n",
    "                ans = max(ans, freq+counter[num+1])\n",
    "        return ans\n",
    "    \n",
    "obj = Solution()\n",
    "obj.findLHS([1,3,2,2,5,2,3,7])\n"
   ]
  },
  {
   "cell_type": "markdown",
   "id": "8d963623-a204-4ee8-aadd-1efbc9f14726",
   "metadata": {},
   "source": [
    "### Question 4\n",
    "### You have a long flowerbed in which some of the plots are planted, and some are not.\n",
    "### However, flowers cannot be planted in adjacent plots.\n",
    "### Given an integer array flowerbed containing 0's and 1's, where 0 means empty and 1 means not empty, and an integer n, return true if n new flowers can be planted in the flowerbed without violating the no-adjacent-flowers rule and false otherwise.\n",
    "\n",
    "### Example 1:\n",
    "### Input: flowerbed = [1,0,0,0,1], n = 1\n",
    "### Output: true"
   ]
  },
  {
   "cell_type": "code",
   "execution_count": 13,
   "id": "e9c010df-a450-41b8-b9f1-0f3e3ab34b68",
   "metadata": {},
   "outputs": [
    {
     "data": {
      "text/plain": [
       "True"
      ]
     },
     "execution_count": 13,
     "metadata": {},
     "output_type": "execute_result"
    }
   ],
   "source": [
    "class Solution:\n",
    "    def canPlaceFlowers(self, flowerbed, n) -> bool:\n",
    "        for i, val in enumerate(flowerbed):\n",
    "            if val == 0 and (i == 0 or flowerbed[i - 1] == 0) and (i == len(flowerbed) - 1 or flowerbed[i + 1] == 0):\n",
    "                flowerbed[i] = 1\n",
    "                n -= 1\n",
    "            if n <= 0:\n",
    "                return True\n",
    "\n",
    "        return False\n",
    "    \n",
    "obj = Solution()\n",
    "obj.canPlaceFlowers([1,0,0,0,1],1)"
   ]
  },
  {
   "cell_type": "markdown",
   "id": "47a38d49-bc3a-41d1-87cd-26751f7e5c28",
   "metadata": {},
   "source": [
    "### Question 5\n",
    "### Given an integer array nums, find three numbers whose product is maximum and return the maximum product.\n",
    "\n",
    "### Example 1:\n",
    "### Input: nums = [1,2,3]\n",
    "### Output: 6"
   ]
  },
  {
   "cell_type": "code",
   "execution_count": 15,
   "id": "116b7a89-bc6e-47d2-8975-8f78c8251dd9",
   "metadata": {},
   "outputs": [
    {
     "data": {
      "text/plain": [
       "6"
      ]
     },
     "execution_count": 15,
     "metadata": {},
     "output_type": "execute_result"
    }
   ],
   "source": [
    "class Solution:\n",
    "    def maximumProduct(self, nums) -> int:\n",
    "        nums.sort()\n",
    "        return max(nums[-1] * nums[0] * nums[1],\n",
    "               nums[-1] * nums[-2] * nums[-3])\n",
    "    \n",
    "obj = Solution()\n",
    "obj.maximumProduct([1,2,3])"
   ]
  },
  {
   "cell_type": "markdown",
   "id": "23c7562b-1df9-49ea-9ff7-319314f6bd23",
   "metadata": {},
   "source": [
    "### Question 6\n",
    "### Given an array of integers nums which is sorted in ascending order, and an integer target,\n",
    "### write a function to search target in nums. If target exists, then return its index. Otherwise,\n",
    "### return -1.\n",
    "\n",
    "### You must write an algorithm with O(log n) runtime complexity.\n",
    "\n",
    "### Input: nums = [-1,0,3,5,9,12], target = 9\n",
    "### Output: 4\n",
    "\n",
    "### Explanation: 9 exists in nums and its index is 4"
   ]
  },
  {
   "cell_type": "code",
   "execution_count": 18,
   "id": "644d4dfa-32c1-4d5f-a7ca-951604c56f28",
   "metadata": {},
   "outputs": [
    {
     "data": {
      "text/plain": [
       "4"
      ]
     },
     "execution_count": 18,
     "metadata": {},
     "output_type": "execute_result"
    }
   ],
   "source": [
    "class Solution:\n",
    "    def search(self, nums, target) -> int:\n",
    "\n",
    "        l,r,mid = 0, len(nums)-1, 0\n",
    "        while r >= l:\n",
    "            mid = l+(r-l)//2\n",
    "            if nums[mid] == target:\n",
    "                return mid\n",
    "            if nums[mid] > target:\n",
    "                r = mid -1\n",
    "            else:\n",
    "                l = mid +1\n",
    "        return -1\n",
    "    \n",
    "obj = Solution()\n",
    "obj.search([-1,0,3,5,9,12], 9)"
   ]
  },
  {
   "cell_type": "markdown",
   "id": "e6e81726-a500-4bc9-a91e-203894c2b94c",
   "metadata": {},
   "source": [
    "###  Question 7\n",
    "###  An array is monotonic if it is either monotone increasing or monotone decreasing.\n",
    "\n",
    "###  An array nums is monotone increasing if for all i <= j, nums[i] <= nums[j]. An array nums is\n",
    "### monotone decreasing if for all i <= j, nums[i] >= nums[j].\n",
    "\n",
    "### Given an integer array nums, return true if the given array is monotonic, or false otherwise.\n",
    "\n",
    "### Example 1:\n",
    "### Input: nums = [1,2,2,3]\n",
    "### Output: true"
   ]
  },
  {
   "cell_type": "code",
   "execution_count": 2,
   "id": "9c82de15-5065-40b4-80b9-769cd35e3487",
   "metadata": {},
   "outputs": [
    {
     "data": {
      "text/plain": [
       "True"
      ]
     },
     "execution_count": 2,
     "metadata": {},
     "output_type": "execute_result"
    }
   ],
   "source": [
    "class Solution:\n",
    "    def isMonotonic(self, nums) -> bool:\n",
    "        Flag1 = True\n",
    "        Flag2 = True\n",
    "\n",
    "        for i in range(1,len(nums)):\n",
    "            if nums[i] > nums[i-1]:\n",
    "                Flag1 = False\n",
    "            if nums[i] < nums[i-1]:\n",
    "                Flag2 = False\n",
    "\n",
    "      \n",
    "        return Flag1 or Flag2\n",
    "    \n",
    "obj = Solution()\n",
    "obj.isMonotonic([1,2,2,3])"
   ]
  },
  {
   "cell_type": "markdown",
   "id": "1c4532be-6f4b-4530-838d-034c19ed44ff",
   "metadata": {},
   "source": [
    "### Question 8\n",
    "### You are given an integer array nums and an integer k.\n",
    "\n",
    "### In one operation, you can choose any index i where 0 <= i < nums.length and change nums[i] to nums[i] + x where x is an integer from the range [-k, k]. You can apply this operation at most once for each index i.\n",
    "\n",
    "### The score of nums is the difference between the maximum and minimum elements in nums.\n",
    "\n",
    "### Return the minimum score of nums after applying the mentioned operation at most once for each index in it.\n",
    "\n",
    "### Example 1:\n",
    "### Input: nums = [1], k = 0\n",
    "### Output: 0\n",
    "\n",
    "### Explanation: The score is max(nums) - min(nums) = 1 - 1 = 0."
   ]
  },
  {
   "cell_type": "code",
   "execution_count": null,
   "id": "2fb7f2ba-728f-4a87-b287-9ce84caec74f",
   "metadata": {},
   "outputs": [],
   "source": []
  },
  {
   "cell_type": "code",
   "execution_count": null,
   "id": "1cf8f09f-fcfb-4201-ae67-3dcac1cc7563",
   "metadata": {},
   "outputs": [],
   "source": []
  }
 ],
 "metadata": {
  "kernelspec": {
   "display_name": "Python 3 (ipykernel)",
   "language": "python",
   "name": "python3"
  },
  "language_info": {
   "codemirror_mode": {
    "name": "ipython",
    "version": 3
   },
   "file_extension": ".py",
   "mimetype": "text/x-python",
   "name": "python",
   "nbconvert_exporter": "python",
   "pygments_lexer": "ipython3",
   "version": "3.10.8"
  }
 },
 "nbformat": 4,
 "nbformat_minor": 5
}
