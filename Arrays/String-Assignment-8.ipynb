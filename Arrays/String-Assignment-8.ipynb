{
 "cells": [
  {
   "cell_type": "markdown",
   "id": "0164caf3-a2b8-4dcc-a466-51b930d0960f",
   "metadata": {},
   "source": [
    "### 💡 **Question 1**\n",
    "\n",
    "### Given two strings s1 and s2, return *the lowest **ASCII** sum of deleted characters to make two strings equal*.\n",
    "\n",
    "### **Example 1:**\n",
    "\n",
    "### **Input:** s1 = \"sea\", s2 = \"eat\"\n",
    "\n",
    "### **Output:** 231\n",
    "\n",
    "### **Explanation:** Deleting \"s\" from \"sea\" adds the ASCII value of \"s\" (115) to the sum.\n",
    "\n",
    "### Deleting \"t\" from \"eat\" adds 116 to the sum.\n",
    "\n",
    "### At the end, both strings are equal, and 115 + 116 = 231 is the minimum sum possible to achieve this.\n",
    "\n"
   ]
  },
  {
   "cell_type": "code",
   "execution_count": 9,
   "id": "adb0babf-4bd8-4d2e-b0c8-7f4c73458893",
   "metadata": {},
   "outputs": [
    {
     "name": "stdout",
     "output_type": "stream",
     "text": [
      "231\n"
     ]
    }
   ],
   "source": [
    "def minimumDeleteSum(word1, word2):\n",
    "    def helper(i, j):\n",
    "        if i == len(word1) and j == len(word2):\n",
    "            return 0\n",
    "        if i == len(word1):\n",
    "            return sum(ord(c) for c in word2[j:])\n",
    "        if j == len(word2):\n",
    "            return sum(ord(c) for c in word1[i:])\n",
    "        \n",
    "        if word1[i] == word2[j]:\n",
    "            return helper(i + 1, j + 1)\n",
    "        else:\n",
    "            delete1 = ord(word1[i]) + helper(i + 1, j)\n",
    "            delete2 = ord(word2[j]) + helper(i, j + 1)\n",
    "            return min(delete1, delete2)\n",
    "    \n",
    "    return helper(0, 0)\n",
    "\n",
    "result = minimumDeleteSum(\"sea\", \"eat\")\n",
    "print(result)\n"
   ]
  },
  {
   "cell_type": "markdown",
   "id": "5b7eee14-4a2e-421b-89b5-e8815cd90297",
   "metadata": {},
   "source": [
    "### 💡 **Question 2**\n",
    "\n",
    "### Given a string s containing only three types of characters: '(', ')' and '*', return true *if* s *is **valid***.\n",
    "\n",
    "### The following rules define a **valid** string:\n",
    "\n",
    "### - Any left parenthesis '(' must have a corresponding right parenthesis ')'.\n",
    "### - Any right parenthesis ')' must have a corresponding left parenthesis '('.\n",
    "### - Left parenthesis '(' must go before the corresponding right parenthesis ')'.\n",
    "### - '*' could be treated as a single right parenthesis ')' or a single left parenthesis '(' or an empty string \"\".\n",
    "\n",
    "### **Example 1:**\n",
    "\n",
    "### **Input:** s = \"()\"\n",
    "\n",
    "### **Output:**\n",
    "\n",
    "### true\n",
    "\n"
   ]
  },
  {
   "cell_type": "code",
   "execution_count": 11,
   "id": "0c8a6917-3298-404a-babd-72217f3ddcd2",
   "metadata": {},
   "outputs": [
    {
     "data": {
      "text/plain": [
       "True"
      ]
     },
     "execution_count": 11,
     "metadata": {},
     "output_type": "execute_result"
    }
   ],
   "source": [
    " def checkParan(s):\n",
    "        s1 = []\n",
    "        s2 = []\n",
    "        for i, c in enumerate(s):\n",
    "            if c == '(':\n",
    "                s1.append(i)\n",
    "            elif c == '*':\n",
    "                s2.append(i)\n",
    "            else:\n",
    "                if s1:\n",
    "                    s1.pop()\n",
    "                elif s2:\n",
    "                    s2.pop()\n",
    "                else:\n",
    "                    return False\n",
    "\n",
    "        while s1 and s2:\n",
    "            if s1[-1] > s2[-1]:\n",
    "                return False\n",
    "            s1.pop()\n",
    "            s2.pop()\n",
    "        return s1 == []\n",
    "\n",
    "checkParan(\"()\")"
   ]
  },
  {
   "cell_type": "markdown",
   "id": "7a3abbd8-acef-4106-ae3d-e1596f19f151",
   "metadata": {},
   "source": [
    "### 💡 **Question 3**\n",
    "\n",
    "### Given two strings word1 and word2, return *the minimum number of **steps** required to make* word1 *and* word2 *the same*.\n",
    "\n",
    "### In one **step**, you can delete exactly one character in either string.\n",
    "\n",
    "### **Example 1:**\n",
    "\n",
    "### **Input:** word1 = \"sea\", word2 = \"eat\"\n",
    "\n",
    "### **Output:** 2\n",
    "\n",
    "### **Explanation:** You need one step to make \"sea\" to \"ea\" and another step to make \"eat\" to \"ea\".\n",
    "\n"
   ]
  },
  {
   "cell_type": "code",
   "execution_count": 13,
   "id": "8510dede-05f5-4a1f-a17c-db3e6ffa64a4",
   "metadata": {},
   "outputs": [
    {
     "data": {
      "text/plain": [
       "2"
      ]
     },
     "execution_count": 13,
     "metadata": {},
     "output_type": "execute_result"
    }
   ],
   "source": [
    "def stepsToMakeSame(word1, word2):\n",
    "        m, n = len(word1), len(word2)\n",
    "        h = {}\n",
    "        \n",
    "        def lcs(i, j):\n",
    "            if i < 0 or j < 0:\n",
    "                return 0\n",
    "            elif (i, j) in h:\n",
    "                return h[(i, j)]\n",
    "            elif word1[i] == word2[j]:\n",
    "                x = 1 + lcs(i-1, j-1)\n",
    "                \n",
    "            else:\n",
    "                x = max(lcs(i, j-1), lcs(i-1, j))\n",
    "            h[(i, j)] = x\n",
    "            return x\n",
    "            \n",
    "        t = lcs(m-1, n-1)\n",
    "        \n",
    "        return (m-t) + (n-t)\n",
    "\n",
    "word1, word2 = \"sea\", \"eat\"\n",
    "stepsToMakeSame(word1, word2)"
   ]
  },
  {
   "cell_type": "markdown",
   "id": "d84444a5-661e-498d-8769-8e5215278aed",
   "metadata": {},
   "source": [
    "### 💡 **Question 4**\n",
    "\n",
    "### You need to construct a binary tree from a string consisting of parenthesis and integers.\n",
    "\n",
    "### The whole input represents a binary tree. It contains an integer followed by zero, one or two pairs of parenthesis. The integer represents the root's value and a pair of parenthesis contains a child binary tree with the same structure.\n",
    "### You always start to construct the **left** child node of the parent first if it exists.\n",
    "\n",
    "\n",
    "### **Input:** s = \"4(2(3)(1))(6(5))\"\n",
    "\n",
    "### **Output:** [4,2,6,3,1,5]\n",
    "\n"
   ]
  },
  {
   "cell_type": "code",
   "execution_count": 14,
   "id": "e4bd09e5-be9a-4aa0-80da-eb17a2ddbbe9",
   "metadata": {},
   "outputs": [
    {
     "name": "stdout",
     "output_type": "stream",
     "text": [
      "[4, 2, 3, 1, 6, 5]\n"
     ]
    }
   ],
   "source": [
    "from typing import List, Optional\n",
    "\n",
    "\n",
    "class TreeNode:\n",
    "    def __init__(self, val=0, left=None, right=None):\n",
    "        self.val = val\n",
    "        self.left = left\n",
    "        self.right = right\n",
    "\n",
    "\n",
    "def tree2str(root: Optional[TreeNode]) -> List[int]:\n",
    "    if root is None:\n",
    "        return []\n",
    "\n",
    "    stack = [root]\n",
    "    result = []\n",
    "\n",
    "    while stack:\n",
    "        node = stack.pop()\n",
    "        result.append(node.val)\n",
    "\n",
    "        if node.right:\n",
    "            stack.append(node.right)\n",
    "        if node.left:\n",
    "            stack.append(node.left)\n",
    "\n",
    "    return result\n",
    "\n",
    "root = TreeNode(4)\n",
    "root.left = TreeNode(2)\n",
    "root.left.left = TreeNode(3)\n",
    "root.left.right = TreeNode(1)\n",
    "root.right = TreeNode(6)\n",
    "root.right.left = TreeNode(5)\n",
    "\n",
    "result = tree2str(root)\n",
    "print(result)  \n"
   ]
  },
  {
   "cell_type": "markdown",
   "id": "23631390-0ce9-43f9-a4a0-2500d3a3d19e",
   "metadata": {},
   "source": [
    "### 💡 **Question 5**\n",
    "\n",
    "### Given an array of characters chars, compress it using the following algorithm:\n",
    "\n",
    "### Begin with an empty string s. For each group of **consecutive repeating characters** in chars:\n",
    "\n",
    "### - If the group's length is 1, append the character to s.\n",
    "### - Otherwise, append the character followed by the group's length.\n",
    "\n",
    "### The compressed string s **should not be returned separately**, but instead, be stored **in the input character array chars**. Note that group lengths that are 10 or longer will be split into multiple characters in chars.\n",
    "\n",
    "### After you are done **modifying the input array,** return *the new length of the array*.\n",
    "\n",
    "### You must write an algorithm that uses only constant extra space.\n",
    "\n",
    "### **Example 1:**\n",
    "\n",
    "### **Input:** chars = [\"a\",\"a\",\"b\",\"b\",\"c\",\"c\",\"c\"]\n",
    "\n",
    "### **Output:** Return 6, and the first 6 characters of the input array should be: [\"a\",\"2\",\"b\",\"2\",\"c\",\"3\"]\n",
    "\n",
    "### **Explanation:**\n",
    "\n",
    "### The groups are \"aa\", \"bb\", and \"ccc\". This compresses to \"a2b2c3\".\n",
    "\n"
   ]
  },
  {
   "cell_type": "code",
   "execution_count": 2,
   "id": "c02fd92d-5612-41b3-bd0b-4b7cc4ece1a3",
   "metadata": {},
   "outputs": [
    {
     "data": {
      "text/plain": [
       "6"
      ]
     },
     "execution_count": 2,
     "metadata": {},
     "output_type": "execute_result"
    }
   ],
   "source": [
    "def compress(chars):\n",
    "        n = len(chars)\n",
    "        if n == 1:\n",
    "            return 1\n",
    "        \n",
    "        i = 0\n",
    "        j = 0\n",
    "        \n",
    "        while i < n:\n",
    "            count = 1\n",
    "            while i < n - 1 and chars[i] == chars[i+1]:\n",
    "                count += 1\n",
    "                i += 1\n",
    "            \n",
    "            chars[j] = chars[i]\n",
    "            j += 1\n",
    "            \n",
    "            if count > 1:\n",
    "                for c in str(count):\n",
    "                    chars[j] = c\n",
    "                    j += 1\n",
    "            \n",
    "            i += 1\n",
    "        \n",
    "        return j\n",
    "    \n",
    "chars = [\"a\",\"a\",\"b\",\"b\",\"c\",\"c\",\"c\"]\n",
    "compress(chars)"
   ]
  },
  {
   "cell_type": "markdown",
   "id": "98c0b371-d158-4a6d-b766-36c689e496ff",
   "metadata": {},
   "source": [
    "### 💡 **Question 6**\n",
    "\n",
    "### Given two strings s and p, return *an array of all the start indices of* p*'s anagrams in* s. You may return the answer in **any order**.\n",
    "\n",
    "### An **Anagram** is a word or phrase formed by rearranging the letters of a different word or phrase, typically using all the original letters exactly once.\n",
    "\n",
    "### **Example 1:**\n",
    "\n",
    "### **Input:** s = \"cbaebabacd\", p = \"abc\"\n",
    "\n",
    "### **Output:** [0,6]\n",
    "\n",
    "### **Explanation:**\n",
    "\n",
    "### The substring with start index = 0 is \"cba\", which is an anagram of \"abc\".\n",
    "\n",
    "### The substring with start index = 6 is \"bac\", which is an anagram of \"abc\".\n",
    "\n"
   ]
  },
  {
   "cell_type": "code",
   "execution_count": 5,
   "id": "461540bd-e246-41f1-a3b1-5c0f368e5368",
   "metadata": {},
   "outputs": [
    {
     "name": "stdout",
     "output_type": "stream",
     "text": [
      "Counter({'a': 1, 'b': 1, 'c': 1})\n"
     ]
    },
    {
     "data": {
      "text/plain": [
       "[0, 6]"
      ]
     },
     "execution_count": 5,
     "metadata": {},
     "output_type": "execute_result"
    }
   ],
   "source": [
    "from collections import Counter\n",
    "def findAnagrams(s, p):\n",
    "        ans = []\n",
    "        count = Counter(p)\n",
    "        required = len(p)\n",
    "        print(count)\n",
    "\n",
    "        for r, c in enumerate(s):\n",
    "            count[c] -= 1\n",
    "            if count[c] >= 0:\n",
    "                required -= 1\n",
    "            if r >= len(p):\n",
    "                left_char = s[r - len(p)]\n",
    "                count[left_char] += 1\n",
    "                if count[left_char] > 0:\n",
    "                    required += 1\n",
    "            if required == 0:\n",
    "                ans.append(r - len(p) + 1)\n",
    "\n",
    "        return ans\n",
    "    \n",
    "s, p = \"cbaebabacd\", \"abc\"\n",
    "    \n",
    "findAnagrams(s, p)"
   ]
  },
  {
   "cell_type": "markdown",
   "id": "825ff461-52ee-47ef-a92e-952394b388d1",
   "metadata": {},
   "source": [
    "\n",
    "### 💡 **Question 7**\n",
    "\n",
    "### Given an encoded string, return its decoded string.\n",
    "\n",
    "### The encoding rule is: k[encoded_string], where the encoded_string inside the square brackets is being repeated exactly k times. Note that k is guaranteed to be a positive integer.\n",
    "\n",
    "### You may assume that the input string is always valid; there are no extra white spaces, square brackets are well-formed, etc. Furthermore, you may assume that the original data does not contain any digits and that digits are only for those repeat numbers, k. For example, there will not be input like 3a or 2[4].\n",
    "\n",
    "### The test cases are generated so that the length of the output will never exceed 105.\n",
    "\n",
    "### **Example 1:**\n",
    "\n",
    "### **Input:** s = \"3[a]2[bc]\"\n",
    "\n",
    "### **Output:** \"aaabcbc\"\n",
    "\n"
   ]
  },
  {
   "cell_type": "code",
   "execution_count": 6,
   "id": "e313c821-e199-4587-bb83-0a870bf99402",
   "metadata": {},
   "outputs": [
    {
     "name": "stdout",
     "output_type": "stream",
     "text": [
      "aaabcbc\n"
     ]
    }
   ],
   "source": [
    "def checkString(s: str) -> str:\n",
    "    def helper(index):\n",
    "        num = 0\n",
    "        res = ''\n",
    "\n",
    "        while index < len(s):\n",
    "            ch = s[index]\n",
    "            if ch.isnumeric():\n",
    "                num = num * 10 + int(ch)\n",
    "                index += 1\n",
    "            elif ch == '[':\n",
    "                inner_res, index = helper(index + 1)\n",
    "                res += num * inner_res\n",
    "                num = 0\n",
    "            elif ch == ']':\n",
    "                return res, index + 1\n",
    "            else:\n",
    "                res += ch\n",
    "                index += 1\n",
    "\n",
    "        return res, index\n",
    "\n",
    "    result, _ = helper(0)\n",
    "    return result\n",
    "\n",
    "result = checkString(\"3[a]2[bc]\")\n",
    "print(result)\n"
   ]
  },
  {
   "cell_type": "markdown",
   "id": "e301799b-8e6b-4bf8-adf7-295343212c9e",
   "metadata": {},
   "source": [
    "\n",
    "### 💡 **Question 8**\n",
    "\n",
    "### Given two strings s and goal, return true *if you can swap two letters in* s *so the result is equal to* goal*, otherwise, return* false*.*\n",
    "\n",
    "### Swapping letters is defined as taking two indices i and j (0-indexed) such that i != j and swapping the characters at s[i] and s[j].\n",
    "\n",
    "### - For example, swapping at indices 0 and 2 in \"abcd\" results in \"cbad\".\n",
    "\n",
    "### **Example 1:**\n",
    "\n",
    "### **Input:** s = \"ab\", goal = \"ba\"\n",
    "\n",
    "### **Output:** true\n",
    "\n",
    "### **Explanation:** You can swap s[0] = 'a' and s[1] = 'b' to get \"ba\", which is equal to goal.\n",
    "\n",
    "### "
   ]
  },
  {
   "cell_type": "code",
   "execution_count": 10,
   "id": "518fa42b-484f-47b4-955f-f9e9e508534b",
   "metadata": {},
   "outputs": [
    {
     "name": "stdout",
     "output_type": "stream",
     "text": [
      "True\n"
     ]
    }
   ],
   "source": [
    "def buddyStrings(s: str, goal: str) -> bool:\n",
    "    def helper(s, goal, first_index, second_index):\n",
    "        if second_index == -1:\n",
    "            return False\n",
    "        return s[first_index] == goal[second_index] and s[second_index] == goal[first_index]\n",
    "\n",
    "    if len(s) != len(goal):\n",
    "        return False\n",
    "\n",
    "    if s == goal:\n",
    "        frequency = [0] * 26\n",
    "        for ch in s:\n",
    "            frequency[ord(ch) - ord('a')] += 1\n",
    "            if frequency[ord(ch) - ord('a')] == 2:\n",
    "                return True\n",
    "        return False\n",
    "\n",
    "    first_index = -1\n",
    "    second_index = -1\n",
    "    for i in range(len(s)):\n",
    "        if s[i] != goal[i]:\n",
    "            if first_index == -1:\n",
    "                first_index = i\n",
    "            elif second_index == -1:\n",
    "                second_index = i\n",
    "            else:\n",
    "                return False\n",
    "\n",
    "    return helper(s, goal, first_index, second_index)\n",
    "\n",
    "\n",
    "s = \"ab\"\n",
    "goal = \"ba\"\n",
    "result = buddyStrings(s, goal)\n",
    "print(result)  \n"
   ]
  },
  {
   "cell_type": "code",
   "execution_count": null,
   "id": "5762d09b-620e-4e5e-b5fa-43ad69ab1d6a",
   "metadata": {},
   "outputs": [],
   "source": []
  }
 ],
 "metadata": {
  "kernelspec": {
   "display_name": "Python 3 (ipykernel)",
   "language": "python",
   "name": "python3"
  },
  "language_info": {
   "codemirror_mode": {
    "name": "ipython",
    "version": 3
   },
   "file_extension": ".py",
   "mimetype": "text/x-python",
   "name": "python",
   "nbconvert_exporter": "python",
   "pygments_lexer": "ipython3",
   "version": "3.10.8"
  }
 },
 "nbformat": 4,
 "nbformat_minor": 5
}
