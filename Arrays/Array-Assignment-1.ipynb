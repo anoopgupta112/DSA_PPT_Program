{
 "cells": [
  {
   "cell_type": "markdown",
   "id": "4661c91b-4aac-40bc-9ad5-dd075e2f114b",
   "metadata": {},
   "source": [
    "### \n",
    "### 💡 **Q1.** Given an array of integers nums and an integer target, return indices of the two numbers such that they add up to target.\n",
    "\n",
    "### You may assume that each input would have exactly one solution, and you may not use the same element twice.\n",
    "\n",
    "### You can return the answer in any order.\n",
    "\n",
    "### **Example:**\n",
    "### Input: nums = [2,7,11,15], target = 9\n",
    "### Output0 [0,1]\n",
    "\n",
    "### **Explanation:** Because nums[0] + nums[1] == 9, we return [0, 1][\n",
    "\n"
   ]
  },
  {
   "cell_type": "code",
   "execution_count": 14,
   "id": "4f8ca4a9-793f-427d-93ad-9cdce3b502ab",
   "metadata": {},
   "outputs": [
    {
     "data": {
      "text/plain": [
       "[0, 1]"
      ]
     },
     "execution_count": 14,
     "metadata": {},
     "output_type": "execute_result"
    }
   ],
   "source": [
    "class Solution:\n",
    "    def twoSum(self, nums, target):\n",
    "\n",
    "        for i in range(len(nums)):\n",
    "            for j in range(i+1, len(nums)):\n",
    "                if nums[i] + nums[j] == target:\n",
    "                    return [i, j]\n",
    "                \n",
    "        return None\n",
    "            \n",
    "obj = Solution()\n",
    "obj.twoSum([2,7,11,15],9)\n"
   ]
  },
  {
   "cell_type": "markdown",
   "id": "47760b03-d54c-41a1-99a0-0ca33dd92bfb",
   "metadata": {},
   "source": [
    "\n",
    "### 💡 **Q2.** Given an integer array nums and an integer val, remove all occurrences of val in nums in-place. The order of the elements may be changed. Then return the number of elements in nums which are not equal to val.\n",
    "\n",
    "### Consider the number of elements in nums which are not equal to val be k, to get accepted, you need to do the following things:\n",
    "\n",
    "### - Change the array nums such that the first k elements of nums contain the elements which are not equal to val. The remaining elements of nums are not important as well as the size of nums.\n",
    "### - Return k.\n",
    "\n",
    "### **Example :**\n",
    "### Input: nums = [3,2,2,3], val = 3\n",
    "### Output: 2, nums = [2,2,_*,_*]\n",
    "\n",
    "### **Explanation:** Your function should return k = 2, with the first two elements of nums being 2. It does not matter what you leave beyond the returned k (hence they are underscores)\n",
    "\n"
   ]
  },
  {
   "cell_type": "code",
   "execution_count": 19,
   "id": "bb515886-6ffc-46ce-a5e7-529261bac825",
   "metadata": {},
   "outputs": [
    {
     "data": {
      "text/plain": [
       "2"
      ]
     },
     "execution_count": 19,
     "metadata": {},
     "output_type": "execute_result"
    }
   ],
   "source": [
    "class Solution:\n",
    "    def removeElement(self, nums, val) -> int:\n",
    "        count = 0\n",
    "\n",
    "        for i in range(len(nums)):\n",
    "            if nums[i] != val:\n",
    "                nums[count] = nums[i]\n",
    "                count += 1\n",
    "            \n",
    "        return count\n",
    "\n",
    "obj = Solution()\n",
    "obj.removeElement([3,2,2,3],3)"
   ]
  },
  {
   "cell_type": "markdown",
   "id": "41c96fa9-c709-46b8-b2ab-cded256ec451",
   "metadata": {},
   "source": [
    "### 💡 **Q3.** Given a sorted array of distinct integers and a target value, return the index if the target is found. If not, return the index where it would be if it were inserted in order.\n",
    "\n",
    "### You must write an algorithm with O(log n) runtime complexity.\n",
    "\n",
    "### **Example 1:**\n",
    "### Input: nums = [1,3,5,6], target = 5\n",
    "\n",
    "### Output: 2\n"
   ]
  },
  {
   "cell_type": "code",
   "execution_count": 23,
   "id": "4e8c0584-3af8-4f4e-b88d-00c2030e2567",
   "metadata": {},
   "outputs": [
    {
     "data": {
      "text/plain": [
       "2"
      ]
     },
     "execution_count": 23,
     "metadata": {},
     "output_type": "execute_result"
    }
   ],
   "source": [
    " class Solution:\n",
    "    def searchInsert(self, nums, target) -> int:\n",
    "        low,high, mid = 0, len(nums)-1, 0\n",
    "        \n",
    "        while(low <= high):\n",
    "            mid = low+ (high-low)//2\n",
    "            if nums[mid] == target:\n",
    "                return mid\n",
    "            elif nums[mid] > target:\n",
    "                high = mid -1\n",
    "            else:\n",
    "                low = mid +1\n",
    "            \n",
    "        return low\n",
    "        \n",
    "        \n",
    "        \n",
    "obj = Solution()\n",
    "obj.searchInsert([1,3,5,6],5)\n",
    "        "
   ]
  },
  {
   "cell_type": "markdown",
   "id": "ad8099af-fd4d-4875-a6d8-6bb2f276e1de",
   "metadata": {},
   "source": [
    "\n",
    "### 💡 **Q4.** You are given a large integer represented as an integer array digits, where each digits[i] is the ith digit of the integer. The digits are ordered from most significant to least significant in left-to-right order. The large integer does not contain any leading 0's.\n",
    "\n",
    "### Increment the large integer by one and return the resulting array of digits.\n",
    "\n",
    "### **Example 1:**\n",
    "### Input: digits = [1,2,3]\n",
    "### Output: [1,2,4]\n",
    "\n",
    "### **Explanation:** The array represents the integer 123.\n",
    "\n",
    "### Incrementing by one gives 123 + 1 = 124.\n",
    "### Thus, the result should be [1,2,4].\n",
    "\n"
   ]
  },
  {
   "cell_type": "code",
   "execution_count": 34,
   "id": "650c9164-158f-49e6-9887-c61c7ca03023",
   "metadata": {},
   "outputs": [
    {
     "data": {
      "text/plain": [
       "[2, 0, 0]"
      ]
     },
     "execution_count": 34,
     "metadata": {},
     "output_type": "execute_result"
    }
   ],
   "source": [
    "# time complexity: O(1)\n",
    "# Space complexity: O(1)\n",
    "\n",
    "class Solution:\n",
    "    def plusOne(self, digits):\n",
    "        for i, val in reversed(list(enumerate(digits))):\n",
    "            if val != 9:\n",
    "                digits[i] += 1\n",
    "                return digits\n",
    "            else:\n",
    "                digits[i] = 0 \n",
    "        return [1] + digits\n",
    "    \n",
    "obj = Solution()\n",
    "obj.plusOne([1,9,9])\n",
    "        \n",
    "        \n"
   ]
  },
  {
   "cell_type": "markdown",
   "id": "84cdabce-d00d-49d4-823a-c2d246d4816b",
   "metadata": {},
   "source": [
    "### 💡 **Q5.** You are given two integer arrays nums1 and nums2, sorted in non-decreasing order, and two integers m and n, representing the number of elements in nums1 and nums2 respectively.\n",
    "\n",
    "### Merge nums1 and nums2 into a single array sorted in non-decreasing order.\n",
    "\n",
    "### The final sorted array should not be returned by the function, but instead be stored inside the array nums1. To accommodate this, nums1 has a length of m + n, where the first m elements denote the elements that should be merged, and the last n elements are set to 0 and should be ignored. nums2 has a length of n.\n",
    "\n",
    "### **Example 1:**\n",
    "### Input: nums1 = [1,2,3,0,0,0], m = 3, nums2 = [2,5,6], n = 3\n",
    "### Output: [1,2,2,3,5,6]\n",
    "\n",
    "### **Explanation:** The arrays we are merging are [1,2,3] and [2,5,6].\n",
    "### The result of the merge is [1,2,2,3,5,6] with the underlined elements coming from nums1.\n"
   ]
  },
  {
   "cell_type": "code",
   "execution_count": 6,
   "id": "fa06afa9-69b0-4f91-b0e5-fc831fa2ace6",
   "metadata": {},
   "outputs": [
    {
     "data": {
      "text/plain": [
       "[1, 2, 2, 3, 5, 6]"
      ]
     },
     "execution_count": 6,
     "metadata": {},
     "output_type": "execute_result"
    }
   ],
   "source": [
    "class Solution:\n",
    "    def merge(self, nums1, m, nums2, n):\n",
    "        \"\"\"\n",
    "        Do not return anything, modify nums1 in-place instead.\n",
    "        \"\"\"\n",
    "        i = m -1\n",
    "        j = n -1\n",
    "        k = m+n-1\n",
    "        while j>=0:\n",
    "            if nums1[i] > nums2[j] and i >= 0:\n",
    "                nums1[k] = nums1[i]\n",
    "                k -= 1\n",
    "                i -= 1\n",
    "            else:\n",
    "                nums1[k] = nums2[j]\n",
    "                k -= 1\n",
    "                j -= 1\n",
    "        return nums1\n",
    "        \n",
    "obj = Solution()\n",
    "obj.merge([1,2,3,0,0,0], 3, [2,5,6], 3)"
   ]
  },
  {
   "cell_type": "markdown",
   "id": "d98eb565-4350-488a-9a90-c808dc4a18f0",
   "metadata": {},
   "source": [
    "\n",
    "### 💡 **Q6.** Given an integer array nums, return true if any value appears at least twice in the array, and return false if every element is distinct.\n",
    "\n",
    "### **Example 1:**\n",
    "### Input: nums = [1,2,3,1]\n",
    "\n",
    "### Output: true\n"
   ]
  },
  {
   "cell_type": "code",
   "execution_count": 17,
   "id": "28524be2-5df1-4522-9a51-ea60f5eb42e6",
   "metadata": {},
   "outputs": [
    {
     "data": {
      "text/plain": [
       "True"
      ]
     },
     "execution_count": 17,
     "metadata": {},
     "output_type": "execute_result"
    }
   ],
   "source": [
    "class Solution:\n",
    "    def containsDuplicate(self, nums) -> bool:\n",
    "        NoDup = set(nums)\n",
    "        return False if len(nums) == len(NoDup) else True\n",
    "    \n",
    "        \n",
    "obj = Solution()\n",
    "obj.containsDuplicate([1,2,3,1])"
   ]
  },
  {
   "cell_type": "markdown",
   "id": "463f23a9-b387-47bb-9619-57096923abb5",
   "metadata": {},
   "source": [
    "### 💡 **Q7.** Given an integer array nums, move all 0's to the end of it while maintaining the relative order of the nonzero elements.\n",
    "\n",
    "### Note that you must do this in-place without making a copy of the array.\n",
    "\n",
    "### **Example 1:**\n",
    "### Input: nums = [0,1,0,3,12]\n",
    "### Output: [1,3,12,0,0]\n"
   ]
  },
  {
   "cell_type": "code",
   "execution_count": 20,
   "id": "8f971b86-8aa8-4d70-a2ed-40f8324e1dc8",
   "metadata": {},
   "outputs": [
    {
     "name": "stdout",
     "output_type": "stream",
     "text": [
      "[1, 3, 12, 0, 0]\n"
     ]
    }
   ],
   "source": [
    "class Solution:\n",
    "    def moveZeroes(self, nums) -> None:\n",
    " \n",
    "        j = 0\n",
    "        for i in nums:\n",
    "            if i != 0:\n",
    "                nums[j] = i\n",
    "                j+= 1\n",
    "        for i in range(j, len(nums)):\n",
    "            nums[i] = 0\n",
    "        print(nums)\n",
    "obj = Solution()\n",
    "obj.moveZeroes([0,1,0,3,12])\n",
    "\n",
    "\n"
   ]
  },
  {
   "cell_type": "markdown",
   "id": "c21020e4-2732-4c92-9bf9-59f1833b375f",
   "metadata": {},
   "source": [
    "### 💡 **Q8.** You have a set of integers s, which originally contains all the numbers from 1 to n. Unfortunately, due to some error, one of the numbers in s got duplicated to another number in the set, which results in repetition of one number and loss of another number.\n",
    "\n",
    "### You are given an integer array nums representing the data status of this set after the error.\n",
    "\n",
    "### Find the number that occurs twice and the number that is missing and return them in the form of an array.\n",
    "\n",
    "### **Example 1:**\n",
    "### Input: nums = [1,2,2,4]\n",
    "### Output: [2,3]\n"
   ]
  },
  {
   "cell_type": "code",
   "execution_count": 3,
   "id": "c7762963-8759-4f84-b4af-b20d1cdc854d",
   "metadata": {},
   "outputs": [
    {
     "data": {
      "text/plain": [
       "[2, 3]"
      ]
     },
     "execution_count": 3,
     "metadata": {},
     "output_type": "execute_result"
    }
   ],
   "source": [
    "class Solution:\n",
    "    def findErrorNums(self, nums):\n",
    "        \n",
    "        n = len(nums)\n",
    "        nset = set(nums)\n",
    "        missing = n * (n + 1) // 2 - sum(nset)\n",
    "        duplicated = sum(nums) - sum(nset)\n",
    "        return [duplicated, missing]\n",
    "    \n",
    "obj = Solution()\n",
    "obj.findErrorNums([1,2,2,4])\n"
   ]
  },
  {
   "cell_type": "code",
   "execution_count": null,
   "id": "f035c4c2-a31f-4006-9a29-675fd300cb78",
   "metadata": {},
   "outputs": [],
   "source": []
  }
 ],
 "metadata": {
  "kernelspec": {
   "display_name": "Python 3 (ipykernel)",
   "language": "python",
   "name": "python3"
  },
  "language_info": {
   "codemirror_mode": {
    "name": "ipython",
    "version": 3
   },
   "file_extension": ".py",
   "mimetype": "text/x-python",
   "name": "python",
   "nbconvert_exporter": "python",
   "pygments_lexer": "ipython3",
   "version": "3.10.8"
  }
 },
 "nbformat": 4,
 "nbformat_minor": 5
}
