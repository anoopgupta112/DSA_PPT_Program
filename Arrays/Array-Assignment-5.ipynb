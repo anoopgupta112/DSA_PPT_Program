{
 "cells": [
  {
   "cell_type": "markdown",
   "id": "6d606fc2-b2cf-4e2c-9385-4d089c006a46",
   "metadata": {},
   "source": [
    "\n",
    "### 💡 **Question 1**\n",
    "\n",
    "### Convert 1D Array Into 2D Array\n",
    "\n",
    "### You are given a **0-indexed** 1-dimensional (1D) integer array original, and two integers, m and n. You are tasked with creating a 2-dimensional (2D) array with  m rows and n columns using **all** the elements from original.\n",
    "\n",
    "### The elements from indices 0 to n - 1 (**inclusive**) of original should form the first row of the constructed 2D array, the elements from indices n to 2 * n - 1 (**inclusive**) should form the second row of the constructed 2D array, and so on.\n",
    "\n",
    "### Return *an* m x n *2D array constructed according to the above procedure, or an empty 2D array if it is impossible*.\n",
    "\n",
    "### **Example 1:**\n",
    "\n",
    "### **Input:** original = [1,2,3,4], m = 2, n = 2\n",
    "\n",
    "### **Output:** [[1,2],[3,4]]\n",
    "\n"
   ]
  },
  {
   "cell_type": "code",
   "execution_count": 5,
   "id": "285d961a-cdf0-4088-9197-2a7e8e6809a3",
   "metadata": {},
   "outputs": [
    {
     "data": {
      "text/plain": [
       "[[1, 2], [3, 4]]"
      ]
     },
     "execution_count": 5,
     "metadata": {},
     "output_type": "execute_result"
    }
   ],
   "source": [
    "def create2DArray(arr,m,n):\n",
    "    if m*n != len(arr):\n",
    "        return []\n",
    "    q =[]\n",
    "    \n",
    "    for i in range(0, len(arr),n):\n",
    "        q.append(arr[i:i+n])\n",
    "    return q\n",
    "\n",
    "create2DArray([1,2,3,4],2,2)"
   ]
  },
  {
   "cell_type": "markdown",
   "id": "436e0bfa-7ee0-4584-a401-1424555ec66e",
   "metadata": {},
   "source": [
    "### 💡 **Question 2**\n",
    "\n",
    "### You have n coins and you want to build a staircase with these coins. The staircase consists of k rows where the ith row has exactly i coins. The last row of the staircase **may be** incomplete.\n",
    "\n",
    "### Given the integer n, return *the number of **complete rows** of the staircase you will build*.\n",
    "\n",
    "### *Example 1:**\n",
    "\n",
    "### **Input:** n = 5\n",
    "\n",
    "### **Output:** 2\n",
    "\n",
    "### **Explanation:** Because the 3rd row is incomplete, we return 2.\n",
    "\n"
   ]
  },
  {
   "cell_type": "code",
   "execution_count": 7,
   "id": "a912a334-6ac2-47b0-97cd-be85b4a59c57",
   "metadata": {},
   "outputs": [
    {
     "data": {
      "text/plain": [
       "2"
      ]
     },
     "execution_count": 7,
     "metadata": {},
     "output_type": "execute_result"
    }
   ],
   "source": [
    "def arrangeCoint(n):\n",
    "\n",
    "    left, right = 1, n\n",
    "        \n",
    "    while left <= right:\n",
    "\n",
    "        mid = left + (right - left) // 2\n",
    "            \n",
    "        coins = (mid * (mid + 1)) // 2\n",
    "            \n",
    "        if coins <= n:\n",
    "                left = mid + 1\n",
    "        else:\n",
    "            right = mid - 1\n",
    "                \n",
    "    return right\n",
    "\n",
    "arrangeCoint(5)"
   ]
  },
  {
   "cell_type": "markdown",
   "id": "6cdbb786-9f2c-4702-b6ed-69f38f2ab8fe",
   "metadata": {},
   "source": [
    "\n",
    "### 💡 **Question 3**\n",
    "\n",
    "### Given an integer array nums sorted in **non-decreasing** order, return *an array of **the squares of each number** sorted in non-decreasing order*.\n",
    "\n",
    "### **Example 1:**\n",
    "\n",
    "### **Input:** nums = [-4,-1,0,3,10]\n",
    "\n",
    "### **Output:** [0,1,9,16,100]\n",
    "\n",
    "### **Explanation:** After squaring, the array becomes [16,1,0,9,100].\n",
    "\n",
    "### After sorting, it becomes [0,1,9,16,100].\n"
   ]
  },
  {
   "cell_type": "code",
   "execution_count": 8,
   "id": "7644024e-1e0a-44f8-9a62-dc86fb1ce201",
   "metadata": {},
   "outputs": [
    {
     "data": {
      "text/plain": [
       "[0, 1, 9, 16, 100]"
      ]
     },
     "execution_count": 8,
     "metadata": {},
     "output_type": "execute_result"
    }
   ],
   "source": [
    "def squr(arr):\n",
    "    ans = [x ** 2 for x in arr]\n",
    "    ans.sort()\n",
    "    return ans\n",
    "\n",
    "squr([-4,-1,0,3,10])"
   ]
  },
  {
   "cell_type": "markdown",
   "id": "d818c545-d9f5-47c3-a5c5-30502ba88beb",
   "metadata": {},
   "source": [
    "### 💡 **Question 4**\n",
    "\n",
    "### Given two **0-indexed** integer arrays nums1 and nums2, return *a list* answer *of size* 2 *where:*\n",
    "\n",
    "### - answer[0] *is a list of all **distinct** integers in* nums1 *which are **not** present in* nums2*.*\n",
    "### - answer[1] *is a list of all **distinct** integers in* nums2 *which are **not** present in* nums1.\n",
    "\n",
    "### **Note** that the integers in the lists may be returned in **any** order.\n",
    "\n",
    "### **Example 1:**\n",
    "\n",
    "### **Input:** nums1 = [1,2,3], nums2 = [2,4,6]\n",
    "### \n",
    "### **Output:** [[1,3],[4,6]]\n",
    "\n",
    "### **Explanation:**\n",
    "\n",
    "### For nums1, nums1[1] = 2 is present at index 0 of nums2, whereas nums1[0] = 1 and nums1[2] = 3 are not present in nums2. Therefore, answer[0] = [1,3].\n",
    "\n",
    "### For nums2, nums2[0] = 2 is present at index 1 of nums1, whereas nums2[1] = 4 and nums2[2] = 6 are not present in nums2. Therefore, answer[1] = [4,6]\n",
    "\n",
    "### "
   ]
  },
  {
   "cell_type": "code",
   "execution_count": 10,
   "id": "9a0b726c-fda9-449a-8bc3-85acf96d8848",
   "metadata": {},
   "outputs": [
    {
     "data": {
      "text/plain": [
       "[[1, 3], [4, 6]]"
      ]
     },
     "execution_count": 10,
     "metadata": {},
     "output_type": "execute_result"
    }
   ],
   "source": [
    "def UniqueVal(arr1, arr2):\n",
    "    n1 = set(arr1)\n",
    "    n2 = set(arr2)\n",
    "    r1 = list(set(x for x in arr1 if x not in n2))\n",
    "    r2 = list(set(x for x in arr2 if x not in n1))\n",
    "    return [r1,r2]\n",
    "UniqueVal([1,2,3],[2,4,6])\n",
    "            "
   ]
  },
  {
   "cell_type": "markdown",
   "id": "52578f07-5f98-4cb9-9486-3e837bc0e584",
   "metadata": {},
   "source": [
    "\n",
    "### 💡 **Question 5**\n",
    "\n",
    "### Given two integer arrays arr1 and arr2, and the integer d, *return the distance value between the two arrays*.\n",
    "\n",
    "### The distance value is defined as the number of elements arr1[i] such that there is not any element arr2[j] where |arr1[i]-arr2[j]| <= d.\n",
    "\n",
    "### **Example 1:**\n",
    "\n",
    "### **Input:** arr1 = [4,5,8], arr2 = [10,9,1,8], d = 2\n",
    "\n",
    "### **Output:** 2\n",
    "\n",
    "### **Explanation:**\n",
    "\n",
    "### For arr1[0]=4 we have:\n",
    "\n",
    "### |4-10|=6 > d=2\n",
    "\n",
    "### |4-9|=5 > d=2\n",
    "\n",
    "### |4-1|=3 > d=2\n",
    "\n",
    "### |4-8|=4 > d=2\n",
    "\n",
    "### For arr1[1]=5 we have:\n",
    "\n",
    "### |5-10|=5 > d=2\n",
    "\n",
    "### |5-9|=4 > d=2\n",
    "\n",
    "### |5-1|=4 > d=2\n",
    "\n",
    "### |5-8|=3 > d=2\n",
    "\n",
    "### For arr1[2]=8 we have:\n",
    "\n",
    "### **|8-10|=2 <= d=2**\n",
    "\n",
    "### **|8-9|=1 <= d=2**\n",
    "\n",
    "### |8-1|=7 > d=2\n",
    "\n",
    "### **|8-8|=0 <= d=2**\n",
    "\n"
   ]
  },
  {
   "cell_type": "code",
   "execution_count": 12,
   "id": "adb9c67b-ac9b-416a-afd5-8601929b8e64",
   "metadata": {},
   "outputs": [
    {
     "data": {
      "text/plain": [
       "2"
      ]
     },
     "execution_count": 12,
     "metadata": {},
     "output_type": "execute_result"
    }
   ],
   "source": [
    "def TheValue(arr1, arr2, d):\n",
    "    arr2.sort()\n",
    "    distance = len(arr1)\n",
    "    for num in arr1:\n",
    "        start = 0\n",
    "        end = len(arr2) - 1\n",
    "        while start <= end:\n",
    "            mid = (start+end)//2\n",
    "            if abs(num- arr2[mid]) <= d:\n",
    "                distance -= 1\n",
    "                break\n",
    "            elif arr2[mid] > num :\n",
    "                    end = mid-1\n",
    "            elif arr2[mid] < num :\n",
    "                    start = mid+1\n",
    "    return distance\n",
    "\n",
    "arr1 = [4,5,8]\n",
    "arr2 = [10,9,1,8] \n",
    "d = 2\n",
    "TheValue(arr1, arr2,d)"
   ]
  },
  {
   "cell_type": "markdown",
   "id": "edd6d117-cafb-40fb-8f69-4425072f4438",
   "metadata": {},
   "source": [
    "\n",
    "### 💡 **Question 6**\n",
    "\n",
    "### Given an integer array nums of length n where all the integers of nums are in the range [1, n] and each integer appears **once** or **twice**, return *an array of all the integers that appears **twice***.\n",
    "\n",
    "### You must write an algorithm that runs in O(n) time and uses only constant extra space.\n",
    "### \n",
    "### **Example 1:**\n",
    "\n",
    "### **Input:** nums = [4,3,2,7,8,2,3,1]\n",
    "\n",
    "### **Output:**\n",
    "\n",
    "### [2,3]\n",
    "\n"
   ]
  },
  {
   "cell_type": "code",
   "execution_count": 17,
   "id": "a2dc5502-b343-432a-8f2b-0be6b1e9d13d",
   "metadata": {},
   "outputs": [
    {
     "data": {
      "text/plain": [
       "[2, 3]"
      ]
     },
     "execution_count": 17,
     "metadata": {},
     "output_type": "execute_result"
    }
   ],
   "source": [
    "def checkDup(nums):\n",
    "    result = []\n",
    "        \n",
    "    for i in range(len(nums)):\n",
    "        index = abs(nums[i])-1\n",
    "        if nums[index] < 0:\n",
    "            result.append(index+1)\n",
    "        else:\n",
    "            nums[index] = -nums[index]\n",
    "                \n",
    "    return result\n",
    "\n",
    "checkDup([4,3,2,7,8,2,3,1])\n",
    "            "
   ]
  },
  {
   "cell_type": "markdown",
   "id": "02d96c53-78a3-47d6-a358-df88a4884c30",
   "metadata": {},
   "source": [
    "\n",
    "### 💡 **Question 7**\n",
    "\n",
    "### Suppose an array of length n sorted in ascending order is **rotated** between 1 and n times. For example, the array nums = [0,1,2,4,5,6,7] might become:\n",
    "\n",
    "### - [4,5,6,7,0,1,2] if it was rotated 4 times.\n",
    "### - [0,1,2,4,5,6,7] if it was rotated 7 times.\n",
    "\n",
    "### Notice that **rotating** an array [a[0], a[1], a[2], ..., a[n-1]] 1 time results in the array [a[n-1], a[0], a[1], a[2], ..., a[n-2]].\n",
    "\n",
    "### Given the sorted rotated array nums of **unique** elements, return *the minimum element of this array*.\n",
    "\n",
    "### You must write an algorithm that runs in O(log n) time.\n",
    "\n",
    "### **Example 1:**\n",
    "\n",
    "### **Input:** nums = [3,4,5,1,2]\n",
    "\n",
    "### **Output:** 1\n",
    "\n",
    "### **Explanation:**\n",
    "\n",
    "### The original array was [1,2,3,4,5] rotated 3 times.\n"
   ]
  },
  {
   "cell_type": "code",
   "execution_count": 21,
   "id": "06536220-6716-43c4-be45-1e9fbce88f99",
   "metadata": {},
   "outputs": [
    {
     "data": {
      "text/plain": [
       "1"
      ]
     },
     "execution_count": 21,
     "metadata": {},
     "output_type": "execute_result"
    }
   ],
   "source": [
    "def rotateArray(arr):\n",
    "    low = 0\n",
    "    high = len(arr)-1\n",
    "    while low < high:\n",
    "        mid = low + (high - low)//2\n",
    "        if arr[mid] > arr[high]:\n",
    "            low = mid +1\n",
    "        else:\n",
    "            high = mid -1\n",
    "    return arr[low]\n",
    "\n",
    "rotateArray([3,4,5,1,2])\n",
    "        "
   ]
  },
  {
   "cell_type": "markdown",
   "id": "968038d9-5b64-4725-9e4b-e3d61e772a90",
   "metadata": {},
   "source": [
    "### 💡 **Question 8**\n",
    "\n",
    "### An integer array original is transformed into a **doubled** array changed by appending **twice the value** of every element in original, and then randomly **shuffling** the resulting array.\n",
    "\n",
    "### Given an array changed, return original *if* changed *is a **doubled** array. If* changed *is not a **doubled** array, return an empty array. The elements in* original *may be returned in **any** order*.\n",
    "\n",
    "### **Example 1:**\n",
    "\n",
    "### **Input:** changed = [1,3,4,2,6,8]\n",
    "\n",
    "### **Output:** [1,3,4]\n",
    "\n",
    "### **Explanation:** One possible original array could be [1,3,4]:\n",
    "\n",
    "### - Twice the value of 1 is 1 * 2 = 2.\n",
    "### - Twice the value of 3 is 3 * 2 = 6.\n",
    "### - Twice the value of 4 is 4 * 2 = 8.\n",
    "\n",
    "### Other original arrays could be [4,3,1] or [3,1,4].\n",
    "\n"
   ]
  },
  {
   "cell_type": "code",
   "execution_count": 26,
   "id": "44d9e39a-6c8a-4c29-9ca2-4a3fb6141ee5",
   "metadata": {},
   "outputs": [
    {
     "data": {
      "text/plain": [
       "[1, 3, 4]"
      ]
     },
     "execution_count": 26,
     "metadata": {},
     "output_type": "execute_result"
    }
   ],
   "source": [
    "from collections import deque \n",
    "def searchOriginal(arr):\n",
    "    arr.sort()\n",
    "    que=deque([])\n",
    "    output=[]\n",
    "        \n",
    "    for i in arr:\n",
    "        if que and que[0]==i:\n",
    "            que.popleft()\n",
    "        else:\n",
    "            que.append(i*2)\n",
    "            output.append(i)\n",
    "    if que: return []\n",
    "    return output\n",
    "\n",
    "searchOriginal([1,3,4,2,6,8])\n",
    "\n"
   ]
  },
  {
   "cell_type": "code",
   "execution_count": null,
   "id": "df8939ad-8e27-48b9-9cb5-0130f7f4ebac",
   "metadata": {},
   "outputs": [],
   "source": []
  },
  {
   "cell_type": "code",
   "execution_count": null,
   "id": "2cd45ee5-b371-4e76-9f08-cfc03bc1a395",
   "metadata": {},
   "outputs": [],
   "source": []
  }
 ],
 "metadata": {
  "kernelspec": {
   "display_name": "Python 3 (ipykernel)",
   "language": "python",
   "name": "python3"
  },
  "language_info": {
   "codemirror_mode": {
    "name": "ipython",
    "version": 3
   },
   "file_extension": ".py",
   "mimetype": "text/x-python",
   "name": "python",
   "nbconvert_exporter": "python",
   "pygments_lexer": "ipython3",
   "version": "3.10.8"
  }
 },
 "nbformat": 4,
 "nbformat_minor": 5
}
