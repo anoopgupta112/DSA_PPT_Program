{
 "cells": [
  {
   "cell_type": "markdown",
   "id": "72769b72-d3db-4239-bc92-c474f5e7a785",
   "metadata": {},
   "source": [
    "### Question 1\n",
    "### Given an integer array nums of length n and an integer target, find three integers\n",
    "### in nums such that the sum is closest to the target.\n",
    "### Return the sum of the three integers.\n",
    "\n",
    "### You may assume that each input would have exactly one solution.\n",
    "\n",
    "### Example 1:\n",
    "### Input: nums = [-1,2,1,-4], target = 1\n",
    "### Output: 2\n",
    "\n",
    "### Explanation: The sum that is closest to the target is 2. (-1 + 2 + 1 = 2)."
   ]
  },
  {
   "cell_type": "code",
   "execution_count": 3,
   "id": "3becf58e-3d98-4626-a7e6-0a81e786dadb",
   "metadata": {},
   "outputs": [
    {
     "data": {
      "text/plain": [
       "2"
      ]
     },
     "execution_count": 3,
     "metadata": {},
     "output_type": "execute_result"
    }
   ],
   "source": [
    "class Solution:\n",
    "    def threeSumClosest(self, nums, target) -> int:\n",
    "        nums.sort()\n",
    "        closest_sum = float('inf')\n",
    "        for i in range(len(nums) - 2):\n",
    "            left = i + 1\n",
    "            right = len(nums) - 1\n",
    "            while left < right:\n",
    "                curr_sum = nums[i] + nums[left] + nums[right]\n",
    "                if abs(curr_sum - target) < abs(closest_sum - target):\n",
    "                    closest_sum = curr_sum\n",
    "                if curr_sum < target:\n",
    "                    left += 1\n",
    "                elif curr_sum > target:\n",
    "                    right -= 1\n",
    "                else:\n",
    "                    return curr_sum\n",
    "        return closest_sum\n",
    "    \n",
    "obj = Solution()\n",
    "obj.threeSumClosest([-1,2,1,4],1)"
   ]
  },
  {
   "cell_type": "markdown",
   "id": "5b5b0e51-d0e2-4489-8f39-b2e6fcbc3a2d",
   "metadata": {},
   "source": [
    "### Question 2\n",
    "### Given an array nums of n integers, return an array of all the unique quadruplets\n",
    "### [nums[a], nums[b], nums[c], nums[d]] such that:\n",
    "###            ● 0 <= a, b, c, d < n\n",
    "###            ● a, b, c, and d are distinct.\n",
    "###            ● nums[a] + nums[b] + nums[c] + nums[d] == target\n",
    "\n",
    "### You may return the answer in any order.\n",
    "\n",
    "### Example 1:\n",
    "### Input: nums = [1,0,-1,0,-2,2], target = 0\n",
    "### Output: [[-2,-1,1,2],[-2,0,0,2],[-1,0,0,1]]"
   ]
  },
  {
   "cell_type": "code",
   "execution_count": 4,
   "id": "2faa3745-be8d-43f0-b6ff-ecf6610e70ff",
   "metadata": {},
   "outputs": [
    {
     "data": {
      "text/plain": [
       "[[-2, -1, 1, 2], [-2, 0, 0, 2], [-1, 0, 0, 1]]"
      ]
     },
     "execution_count": 4,
     "metadata": {},
     "output_type": "execute_result"
    }
   ],
   "source": [
    "class Solution:\n",
    "    def fourSum(self, nums, target):\n",
    "        n = len(nums)\n",
    "        nums.sort()\n",
    "        res = []\n",
    "\n",
    "        for i in range(n-3):\n",
    "            if i > 0 and nums[i] == nums[i - 1]:\n",
    "                continue\n",
    "            for j in range(i+1, n-2):\n",
    "                if j > i + 1 and nums[j] == nums[j - 1]:\n",
    "                    continue\n",
    "                lo = j + 1\n",
    "                hi = n - 1\n",
    "                while lo < hi:\n",
    "                    temp = nums[i] + nums[j] + nums[lo] + nums[hi]\n",
    "                    if temp == target:\n",
    "                        res += [nums[i], nums[j], nums[lo], nums[hi]],\n",
    "\n",
    "                        while lo < hi and nums[lo] == nums[lo + 1]:\n",
    "                            lo += 1\n",
    "                        lo += 1\n",
    "                        while lo < hi and nums[hi] == nums[hi - 1]:\n",
    "                            hi -= 1\n",
    "                        hi -= 1\n",
    "                    elif temp < target:\n",
    "                        lo += 1\n",
    "                    else:\n",
    "                        hi -= 1\n",
    "        return res\n",
    "    \n",
    "obj = Solution()\n",
    "obj.fourSum([1,0,-1,0,-2,2],0)"
   ]
  },
  {
   "cell_type": "markdown",
   "id": "9eb4f437-93c8-47e8-a327-337d5b4abec1",
   "metadata": {},
   "source": [
    "\n",
    "### 💡 **Question 3**\n",
    "### A permutation of an array of integers is an arrangement of its members into a\n",
    "### sequence or linear order.\n",
    "\n",
    "### For example, for arr = [1,2,3], the following are all the permutations of arr:\n",
    "### [1,2,3], [1,3,2], [2, 1, 3], [2, 3, 1], [3,1,2], [3,2,1].\n",
    "\n",
    "### The next permutation of an array of integers is the next lexicographically greater\n",
    "### permutation of its integer. More formally, if all the permutations of the array are\n",
    "### sorted in one container according to their lexicographical order, then the next\n",
    "### permutation of that array is the permutation that follows it in the sorted container.\n",
    "\n",
    "### If such an arrangement is not possible, the array must be rearranged as the\n",
    "### lowest possible order (i.e., sorted in ascending order).\n",
    "\n",
    "### ● For example, the next permutation of arr = [1,2,3] is [1,3,2].\n",
    "### ● Similarly, the next permutation of arr = [2,3,1] is [3,1,2].\n",
    "### ● While the next permutation of arr = [3,2,1] is [1,2,3] because [3,2,1] does not\n",
    "### have a lexicographical larger rearrangement.\n",
    "\n",
    "### Given an array of integers nums, find the next permutation of nums.\n",
    "### The replacement must be in place and use only constant extra memory.\n",
    "\n",
    "### **Example 1:**\n",
    "### Input: nums = [1,2,3]\n",
    "### Output: [1,3,2]\n",
    "\n",
    "### </aside>"
   ]
  },
  {
   "cell_type": "code",
   "execution_count": 8,
   "id": "83b721b9-6506-4ef1-bc54-383408821221",
   "metadata": {},
   "outputs": [
    {
     "name": "stdout",
     "output_type": "stream",
     "text": [
      "[1, 3, 2]\n"
     ]
    }
   ],
   "source": [
    "class Solution:\n",
    "    def reverse(self, nums, start, stop):\n",
    "        size = stop + start\n",
    "        for i in range(start, (size + 1) // 2):\n",
    "            nums[i], nums[size - i] = nums[size - i], nums[i]\n",
    "    \n",
    "    def nextPermutation(self, nums) -> None:\n",
    "        ind = -1\n",
    "        for i in range(len(nums)-2, -1, -1):\n",
    "            if nums[i] < nums[i+1]:\n",
    "                ind = i    \n",
    "                break\n",
    "        if ind == -1:  \n",
    "            nums.reverse() \n",
    "         \n",
    "        else:\n",
    "            for i in range(len(nums)-1, ind, -1):\n",
    "                if nums[i] > nums[ind]:\n",
    "                    nums[i], nums[ind] = nums[ind], nums[i]\n",
    "                    break\n",
    "          \n",
    "            self.reverse(nums, ind+1, len(nums)-1)\n",
    "            \n",
    "        print(nums)\n",
    "    \n",
    "obj = Solution()\n",
    "obj.nextPermutation([1,2,3])"
   ]
  },
  {
   "cell_type": "markdown",
   "id": "6de18dc4-baff-47d8-b825-45b823b5c2de",
   "metadata": {},
   "source": [
    "### Question 4\n",
    "### Given a sorted array of distinct integers and a target value, return the index if the\n",
    "### target is found. If not, return the index where it would be if it were inserted in\n",
    "### order.\n",
    "\n",
    "### You must write an algorithm with O(log n) runtime complexity.\n",
    "\n",
    "### Example 1:\n",
    "### Input: nums = [1,3,5,6], target = 5\n",
    "### Output: 2"
   ]
  },
  {
   "cell_type": "code",
   "execution_count": 12,
   "id": "f0050336-166e-4fc9-b2e4-6486cd94dcbb",
   "metadata": {},
   "outputs": [
    {
     "name": "stdout",
     "output_type": "stream",
     "text": [
      "2\n"
     ]
    }
   ],
   "source": [
    "class Solution:\n",
    "    def searchInsert(self, nums, target) -> int:\n",
    "        low,high, mid = 0, len(nums)-1, 0\n",
    "        \n",
    "        while(low <= high):\n",
    "            mid = low+ (high-low)//2\n",
    "            if nums[mid] == target:\n",
    "                return mid\n",
    "            elif nums[mid] > target:\n",
    "                high = mid -1\n",
    "            else:\n",
    "                low = mid +1\n",
    "            \n",
    "        return low\n",
    "    \n",
    "obj = Solution()\n",
    "val = obj.searchInsert([1,3,5,6],5)\n",
    "print(val)"
   ]
  },
  {
   "cell_type": "markdown",
   "id": "52bdd4c6-d6ba-4c77-84ca-256543904c3f",
   "metadata": {},
   "source": [
    "### 💡 **Question 5**\n",
    "### You are given a large integer represented as an integer array digits, where each\n",
    "### digits[i] is the ith digit of the integer. The digits are ordered from most significant\n",
    "### to least significant in left-to-right order. The large integer does not contain any\n",
    "### leading 0's.\n",
    "\n",
    "### Increment the large integer by one and return the resulting array of digits.\n",
    "\n",
    "### **Example 1:**\n",
    "### Input: digits = [1,2,3]\n",
    "### Output: [1,2,4]\n",
    "\n",
    "### **Explanation:** The array represents the integer 123.\n",
    "### Incrementing by one gives 123 + 1 = 124.\n",
    "### Thus, the result should be [1,2,4].\n",
    "\n"
   ]
  },
  {
   "cell_type": "code",
   "execution_count": 14,
   "id": "7befac92-11e1-47ea-8feb-a2cd2b877e15",
   "metadata": {},
   "outputs": [
    {
     "data": {
      "text/plain": [
       "[1, 2, 4]"
      ]
     },
     "execution_count": 14,
     "metadata": {},
     "output_type": "execute_result"
    }
   ],
   "source": [
    "class Solution:\n",
    "    def plusOne(self, digits):\n",
    "        for i, val in reversed(list(enumerate(digits))):\n",
    "            if val != 9:\n",
    "                digits[i] += 1\n",
    "                return digits\n",
    "            else:\n",
    "                digits[i] = 0 \n",
    "        return [1] + digits\n",
    "\n",
    "obj = Solution()\n",
    "obj.plusOne([1,2,3])"
   ]
  },
  {
   "cell_type": "markdown",
   "id": "bf1c11c8-1b47-4143-a703-f08fd2718de4",
   "metadata": {},
   "source": [
    "### Question 6\n",
    "### Given a non-empty array of integers nums, every element appears twice except\n",
    "### for one. Find that single one.\n",
    "\n",
    "### You must implement a solution with a linear runtime complexity and use only\n",
    "### constant extra space.\n",
    "\n",
    "### Example 1:\n",
    "### Input: nums = [2,2,1]\n",
    "### Output: 1"
   ]
  },
  {
   "cell_type": "code",
   "execution_count": 1,
   "id": "13824cdd-e322-4561-8edc-711fd2f6251f",
   "metadata": {},
   "outputs": [
    {
     "data": {
      "text/plain": [
       "1"
      ]
     },
     "execution_count": 1,
     "metadata": {},
     "output_type": "execute_result"
    }
   ],
   "source": [
    "def findSingle(nums):\n",
    "    total_sum = sum(nums)\n",
    "    \n",
    "    unique_sum = 2 * sum(set(nums))\n",
    "    \n",
    "    return unique_sum - total_sum\n",
    "findSingle([2,2,1])"
   ]
  },
  {
   "cell_type": "markdown",
   "id": "40f0db49-1fdc-40f1-96c6-3621306ebd06",
   "metadata": {},
   "source": [
    "### Question 7\n",
    "### You are given an inclusive range [lower, upper] and a sorted unique integer array\n",
    "### nums, where all elements are within the inclusive range.\n",
    "\n",
    "### A number x is considered missing if x is in the range [lower, upper] and x is not in\n",
    "### nums.\n",
    "\n",
    "### Return the shortest sorted list of ranges that exactly covers all the missing\n",
    "### numbers. That is, no element of nums is included in any of the ranges, and each\n",
    "### missing number is covered by one of the ranges.\n",
    "\n",
    "### Example 1:\n",
    "### Input: nums = [0,1,3,50,75], lower = 0, upper = 99\n",
    "### Output: [[2,2],[4,49],[51,74],[76,99]]\n",
    "\n",
    "### Explanation: The ranges are:\n",
    "### [2,2]\n",
    "### [4,49]\n",
    "### [51,74]\n",
    "### [76,99]"
   ]
  },
  {
   "cell_type": "code",
   "execution_count": 2,
   "id": "eac64996-2ac8-4744-b230-d830ac7dbaf5",
   "metadata": {},
   "outputs": [
    {
     "name": "stdout",
     "output_type": "stream",
     "text": [
      "[[2, 2], [4, 49], [51, 74], [76, 99]]\n"
     ]
    }
   ],
   "source": [
    "def findMissingRanges(nums, lower, upper):\n",
    "    res = []\n",
    "    next_num = lower\n",
    "    \n",
    "    for num in nums:\n",
    "        if lower == float('inf'):\n",
    "            return res\n",
    "        if num < next_num:\n",
    "            continue\n",
    "        if num == next_num:\n",
    "            next_num += 1\n",
    "            continue\n",
    "        res.append([next_num, num - 1])\n",
    "        if num == float('inf'):\n",
    "            return res\n",
    "        next_num = num + 1\n",
    "    \n",
    "    if next_num <= upper:\n",
    "        res.append([next_num, upper])\n",
    "    \n",
    "    return res\n",
    "\n",
    "\n",
    "nums = [0, 1, 3, 50, 75]\n",
    "lower = 0\n",
    "upper = 99\n",
    "result = findMissingRanges(nums, lower, upper)\n",
    "print(result)\n"
   ]
  },
  {
   "cell_type": "markdown",
   "id": "fd22689b-fd33-4929-b369-edc21857d5ce",
   "metadata": {},
   "source": [
    "### Question 8\n",
    "### Given an array of meeting time intervals where intervals[i] = [starti, endi],\n",
    "### determine if a person could attend all meetings.\n",
    "\n",
    "### Example 1:\n",
    "### Input: intervals = [[0,30],[5,10],[15,20]]\n",
    "### Output: false"
   ]
  },
  {
   "cell_type": "code",
   "execution_count": 4,
   "id": "99238249-d70f-4bc5-b893-d1690ed8f60b",
   "metadata": {},
   "outputs": [
    {
     "name": "stdout",
     "output_type": "stream",
     "text": [
      "False\n"
     ]
    }
   ],
   "source": [
    "def canAttendMeetings(intervals):\n",
    "    intervals.sort(key=lambda x: x[0])\n",
    "    \n",
    "    for i in range(1, len(intervals)):\n",
    "        if intervals[i][0] <= intervals[i-1][1]:\n",
    "            return False\n",
    "    \n",
    "    return True\n",
    "\n",
    "intervals1 = [[0, 30], [5, 10], [15, 20]]\n",
    "print(canAttendMeetings(intervals1))  \n",
    "\n"
   ]
  },
  {
   "cell_type": "code",
   "execution_count": null,
   "id": "ddc0a8b6-13e6-4c73-b4ca-432874cdb7ad",
   "metadata": {},
   "outputs": [],
   "source": []
  }
 ],
 "metadata": {
  "kernelspec": {
   "display_name": "Python 3 (ipykernel)",
   "language": "python",
   "name": "python3"
  },
  "language_info": {
   "codemirror_mode": {
    "name": "ipython",
    "version": 3
   },
   "file_extension": ".py",
   "mimetype": "text/x-python",
   "name": "python",
   "nbconvert_exporter": "python",
   "pygments_lexer": "ipython3",
   "version": "3.10.8"
  }
 },
 "nbformat": 4,
 "nbformat_minor": 5
}
