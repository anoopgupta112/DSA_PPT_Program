{
 "cells": [
  {
   "cell_type": "markdown",
   "id": "953e9281-ef1b-4596-b0b1-692181fa86b9",
   "metadata": {},
   "source": [
    "\n",
    "### 💡 **Question 1**\n",
    "\n",
    "### A permutation perm of n + 1 integers of all the integers in the range [0, n] can be represented as a string s of length n where:\n",
    "\n",
    "### - s[i] == 'I' if perm[i] < perm[i + 1], and\n",
    "### - s[i] == 'D' if perm[i] > perm[i + 1].\n",
    "\n",
    "### Given a string s, reconstruct the permutation perm and return it. If there are multiple valid permutations perm, return **any of them**.\n",
    "\n",
    "### **Example 1:**\n",
    "\n",
    "### **Input:** s = \"IDID\"\n",
    "\n",
    "### **Output:**\n",
    "\n",
    "### [0,4,1,3,2]\n",
    "\n"
   ]
  },
  {
   "cell_type": "code",
   "execution_count": 2,
   "id": "8a32982c-af69-42dd-95f5-e747adc6cd37",
   "metadata": {},
   "outputs": [
    {
     "data": {
      "text/plain": [
       "[0, 4, 1, 3, 2]"
      ]
     },
     "execution_count": 2,
     "metadata": {},
     "output_type": "execute_result"
    }
   ],
   "source": [
    "def Per(s):\n",
    "    i, n = 0, len(s)\n",
    "    ans = []\n",
    "    for a in s:\n",
    "        if a == \"I\":\n",
    "            ans.append(i)\n",
    "            i+=1\n",
    "        else:\n",
    "            ans.append(n)\n",
    "            n-=1\n",
    "\n",
    "    ans.append(i)\n",
    "    return ans\n",
    "Per(\"IDID\")"
   ]
  },
  {
   "cell_type": "markdown",
   "id": "9216fddb-23de-49b7-94ff-678f7750b32f",
   "metadata": {},
   "source": [
    "### 💡 **Question 2**\n",
    "\n",
    "### You are given an m x n integer matrix matrix with the following two properties:\n",
    "### - Each row is sorted in non-decreasing order.\n",
    "### - The first integer of each row is greater than the last integer of the previous row.\n",
    "\n",
    "### Given an integer target, return true *if* target *is in* matrix *or* false *otherwise*.\n",
    "\n",
    "### You must write a solution in O(log(m * n)) time complexity.\n",
    "\n",
    "### **Example 1:**\n",
    "\n",
    "### **Input:** matrix = [[1,3,5,7],[10,11,16,20],[23,30,34,60]], target = 3\n",
    "\n",
    "### **Output:** true\n",
    "\n"
   ]
  },
  {
   "cell_type": "code",
   "execution_count": 9,
   "id": "94604faf-11ef-434c-8e18-1aed58237645",
   "metadata": {},
   "outputs": [
    {
     "data": {
      "text/plain": [
       "True"
      ]
     },
     "execution_count": 9,
     "metadata": {},
     "output_type": "execute_result"
    }
   ],
   "source": [
    "    def isToeplitzMatrix(matrix, target):\n",
    "        m = len(matrix)\n",
    "        n = len(matrix[0])\n",
    "\n",
    "        if m == 0:\n",
    "            return False\n",
    "\n",
    "        # Apply binary search algorithm\n",
    "        high = (m * n) - 1\n",
    "        low = 0\n",
    "        midIdx, midElement, rowIdx, colIdx = 0, 0, 0, 0\n",
    "\n",
    "        while low <= high:\n",
    "            midIdx = low + (high - low) // 2\n",
    "            rowIdx = midIdx // n\n",
    "            colIdx = midIdx % n\n",
    "\n",
    "            midElement = matrix[int(rowIdx)][int(colIdx)]\n",
    "\n",
    "            if target == midElement:\n",
    "                return True\n",
    "            else:\n",
    "                if target < midElement:\n",
    "                    high = midIdx - 1\n",
    "                else:\n",
    "                    low = midIdx + 1\n",
    "\n",
    "matrix = [[1,3,5,7],[10,11,16,20],[23,30,34,60]]\n",
    "target = 3\n",
    "isToeplitzMatrix(matrix, target)\n"
   ]
  },
  {
   "cell_type": "markdown",
   "id": "cd3728f0-a3fc-4c5e-ada2-71e8452bbc93",
   "metadata": {},
   "source": [
    "### 💡 **Question 3**\n",
    "\n",
    "### Given an array of integers arr, return *true if and only if it is a valid mountain array*.\n",
    "\n",
    "### Recall that arr is a mountain array if and only if:\n",
    "\n",
    "### - arr.length >= 3\n",
    "### - There exists some i with 0 < i < arr.length - 1 such that:\n",
    "###     - arr[0] < arr[1] < ... < arr[i - 1] < arr[i]\n",
    "###     - arr[i] > arr[i + 1] > ... > arr[arr.length - 1]\n",
    "\n",
    "\n",
    "### **Example 1:**\n",
    "\n",
    "### **Input:** arr = [2,1]\n",
    "\n",
    "### **Output:**\n",
    "\n",
    "### false\n",
    "\n"
   ]
  },
  {
   "cell_type": "code",
   "execution_count": 11,
   "id": "3f77b830-d40b-4be8-8f95-6c354d59d738",
   "metadata": {},
   "outputs": [
    {
     "data": {
      "text/plain": [
       "False"
      ]
     },
     "execution_count": 11,
     "metadata": {},
     "output_type": "execute_result"
    }
   ],
   "source": [
    "def MountainArr(arr):\n",
    "        max_num = max(arr)\n",
    "        if max_num == arr[len(arr) - 1] or max_num == arr[0]:\n",
    "            return False\n",
    "        max_found = False\n",
    "        for i in range(len(arr) - 1):\n",
    "            if arr[i] == max_num:\n",
    "                max_found = True\n",
    "            if max_found and arr[i] <= arr[i + 1]:\n",
    "                return False\n",
    "            elif not max_found and arr[i] >= arr[i + 1]:\n",
    "                return False\n",
    "        return True\n",
    "    \n",
    "MountainArr([2,1])"
   ]
  },
  {
   "cell_type": "markdown",
   "id": "930f41a7-f5d0-46fd-ae23-c229b7f65026",
   "metadata": {},
   "source": [
    "### 💡 **Question 4**\n",
    "### \n",
    "### Given a binary array nums, return *the maximum length of a contiguous subarray with an equal number of* 0 *and* 1.\n",
    "\n",
    "### **Example 1:**\n",
    "\n",
    "### **Input:** nums = [0,1]\n",
    "### \n",
    "### **Output:** 2\n",
    "\n",
    "### **Explanation:**\n",
    "\n",
    "### [0, 1] is the longest contiguous subarray with an equal number of 0 and 1.\n",
    "\n"
   ]
  },
  {
   "cell_type": "code",
   "execution_count": 3,
   "id": "5781e9a2-beed-4fea-9e75-78fc759e1a62",
   "metadata": {},
   "outputs": [
    {
     "data": {
      "text/plain": [
       "2"
      ]
     },
     "execution_count": 3,
     "metadata": {},
     "output_type": "execute_result"
    }
   ],
   "source": [
    "def Contig(nums):\n",
    "        count = {0: -1} \n",
    "        max_len = count_diff = 0\n",
    "        \n",
    "        for i, num in enumerate(nums):\n",
    "            count_diff += 1 if num == 1 else -1 \n",
    "            if count_diff in count:\n",
    "                max_len = max(max_len, i - count[count_diff])\n",
    "            else:\n",
    "                count[count_diff] = i\n",
    "        \n",
    "        return max_len\n",
    "    \n",
    "Contig([0,1])"
   ]
  },
  {
   "cell_type": "markdown",
   "id": "9ee250b5-d2fe-460c-bcbd-d8910a81287d",
   "metadata": {},
   "source": [
    "\n",
    "### 💡 **Question 5**\n",
    "\n",
    "### The **product sum** of two equal-length arrays a and b is equal to the sum of a[i] * b[i] for all 0 <= i < a.length (**0-indexed**).\n",
    "\n",
    "### - For example, if a = [1,2,3,4] and b = [5,2,3,1], the **product sum** would be 1*5 + 2*2 + 3*3 + 4*1 = 22.\n",
    "\n",
    "### Given two arrays nums1 and nums2 of length n, return *the **minimum product sum** if you are allowed to **rearrange** the **order** of the elements in* nums1.\n",
    "\n",
    "### **Example 1:**\n",
    "\n",
    "### **Input:** nums1 = [5,3,4,2], nums2 = [4,2,2,5]\n",
    "\n",
    "### **Output:** 40\n",
    "\n",
    "### **Explanation:**\n",
    "\n",
    "### We can rearrange nums1 to become [3,5,4,2]. The product sum of [3,5,4,2] and [4,2,2,5] is 3*4 + 5*2 + 4*2 + 2*5 = 40.\n"
   ]
  },
  {
   "cell_type": "code",
   "execution_count": 9,
   "id": "1bf85177-0ae7-4c73-a53f-23be85d2c138",
   "metadata": {},
   "outputs": [
    {
     "data": {
      "text/plain": [
       "40"
      ]
     },
     "execution_count": 9,
     "metadata": {},
     "output_type": "execute_result"
    }
   ],
   "source": [
    "def minProductSum(nums1, nums2):\n",
    "        nums1.sort()\n",
    "        nums2.sort()\n",
    "        n, res = len(nums1), 0\n",
    "        for i in range(n):\n",
    "            res += nums1[i] * nums2[n - i - 1]\n",
    "        return res\n",
    "nums1 = [5,3,4,2]\n",
    "nums2 = [4,2,2,5]\n",
    "minProductSum(nums1,nums2)\n"
   ]
  },
  {
   "cell_type": "markdown",
   "id": "fc5890b6-a84a-4362-8bdf-28df72fbf09a",
   "metadata": {},
   "source": [
    "\n",
    "###💡 **Question 6**\n",
    "\n",
    "### An integer array original is transformed into a **doubled** array changed by appending **twice the value** of every element in original, and then randomly **shuffling** the resulting array.\n",
    "\n",
    "### Given an array changed, return original *if* changed *is a **doubled** array. If* changed *is not a **doubled** array, return an empty array. The elements in* original *may be returned in **any** order*.\n",
    "\n",
    "### **Example 1:**\n",
    "\n",
    "### **Input:** changed = [1,3,4,2,6,8]\n",
    "\n",
    "### **Output:** [1,3,4]\n",
    "\n",
    "### **Explanation:** One possible original array could be [1,3,4]:\n",
    "\n",
    "### - Twice the value of 1 is 1 * 2 = 2.\n",
    "### - Twice the value of 3 is 3 * 2 = 6.\n",
    "### - Twice the value of 4 is 4 * 2 = 8.\n",
    "\n",
    "### Other original arrays could be [4,3,1] or [3,1,4].\n"
   ]
  },
  {
   "cell_type": "code",
   "execution_count": 10,
   "id": "be0417c8-3b0f-4ba3-9067-81be217fd8a0",
   "metadata": {},
   "outputs": [
    {
     "data": {
      "text/plain": [
       "[1, 3, 4]"
      ]
     },
     "execution_count": 10,
     "metadata": {},
     "output_type": "execute_result"
    }
   ],
   "source": [
    "from collections import deque \n",
    "def searchOriginal(arr):\n",
    "    arr.sort()\n",
    "    que=deque([])\n",
    "    output=[]\n",
    "        \n",
    "    for i in arr:\n",
    "        if que and que[0]==i:\n",
    "            que.popleft()\n",
    "        else:\n",
    "            que.append(i*2)\n",
    "            output.append(i)\n",
    "    if que: return []\n",
    "    return output\n",
    "\n",
    "searchOriginal([1,3,4,2,6,8])\n",
    "\n"
   ]
  },
  {
   "cell_type": "markdown",
   "id": "a03440ca-f26f-49be-9fc7-18b646062a03",
   "metadata": {},
   "source": [
    "### 💡 **Question 7**\n",
    "\n",
    "### Given a positive integer n, generate an n x n matrix filled with elements from 1 to n2 in spiral order.\n",
    "\n",
    "### **Example 1:**\n",
    "\n",
    "\n",
    "\n",
    "### **Input:** n = 3\n",
    "\n",
    "### **Output:** [[1,2,3],[8,9,4],[7,6,5]]\n",
    "\n"
   ]
  },
  {
   "cell_type": "code",
   "execution_count": 11,
   "id": "13c71d08-2b0b-4ac4-ab3e-9ce248df18a4",
   "metadata": {},
   "outputs": [
    {
     "data": {
      "text/plain": [
       "[[1, 2, 3], [8, 9, 4], [7, 6, 5]]"
      ]
     },
     "execution_count": 11,
     "metadata": {},
     "output_type": "execute_result"
    }
   ],
   "source": [
    "def generateMatrix(n):\n",
    "        \n",
    "        matrix = [[0] * n for _ in range(n)]\n",
    "        i = j = 0\n",
    "        count = 1\n",
    "        total = n * n\n",
    "\n",
    "        while count <= total:\n",
    "            # Move right\n",
    "            while j < n and matrix[i][j] == 0:\n",
    "                matrix[i][j] = count\n",
    "                count += 1\n",
    "                j += 1\n",
    "            j -= 1\n",
    "            i += 1\n",
    "            \n",
    "            # Move down\n",
    "            while i < n and matrix[i][j] == 0:\n",
    "                matrix[i][j] = count\n",
    "                count += 1\n",
    "                i += 1\n",
    "            i -= 1\n",
    "            j -= 1\n",
    "            \n",
    "            # Move left\n",
    "            while j >= 0 and matrix[i][j] == 0:\n",
    "                matrix[i][j] = count\n",
    "                count += 1\n",
    "                j -= 1\n",
    "            j += 1\n",
    "            i -= 1\n",
    "            \n",
    "            # Move up\n",
    "            while i >= 0 and matrix[i][j] == 0:\n",
    "                matrix[i][j] = count\n",
    "                count += 1\n",
    "                i -= 1\n",
    "            i += 1\n",
    "            j += 1\n",
    "            \n",
    "        return matrix\n",
    "    \n",
    "\n",
    "generateMatrix(3)"
   ]
  },
  {
   "cell_type": "markdown",
   "id": "37e2f3a2-24f0-41d2-959f-ab89021c8ab1",
   "metadata": {},
   "source": [
    "### 💡 **Question 8**\n",
    "\n",
    "### Given two [sparse matrices](https://en.wikipedia.org/wiki/Sparse_matrix) mat1 of size m x k and mat2 of size k x n, return the result of mat1 x mat2. You may assume that multiplication is always possible.\n",
    "\n",
    "### **Example 1:**\n",
    "\n",
    "\n",
    "\n",
    "### **Input:** mat1 = [[1,0,0],[-1,0,3]], mat2 = [[7,0,0],[0,0,0],[0,0,1]]\n",
    "\n",
    "### **Output:**\n",
    "\n",
    "### [[7,0,0],[-7,0,3]]\n",
    "\n"
   ]
  },
  {
   "cell_type": "code",
   "execution_count": 12,
   "id": "0aceedc7-b281-4e38-a5a7-a420c91418a6",
   "metadata": {},
   "outputs": [
    {
     "data": {
      "text/plain": [
       "[[7, 0, 0], [-7, 0, 3]]"
      ]
     },
     "execution_count": 12,
     "metadata": {},
     "output_type": "execute_result"
    }
   ],
   "source": [
    "def multiply(mat1, mat2):\n",
    "        r1, c1, c2 = len(mat1), len(mat1[0]), len(mat2[0])\n",
    "        res = [[0] * c2 for _ in range(r1)]\n",
    "        for i in range(r1):\n",
    "            for j in range(c2):\n",
    "                for k in range(c1):\n",
    "                    res[i][j] += mat1[i][k] * mat2[k][j]\n",
    "        return res\n",
    "    \n",
    "mat1 = [[1,0,0],[-1,0,3]]\n",
    "mat2 = [[7,0,0],[0,0,0],[0,0,1]]\n",
    "multiply(mat1, mat2)"
   ]
  },
  {
   "cell_type": "code",
   "execution_count": null,
   "id": "324f85f3-8540-4fae-bbaa-97d41b5cdad2",
   "metadata": {},
   "outputs": [],
   "source": []
  }
 ],
 "metadata": {
  "kernelspec": {
   "display_name": "Python 3 (ipykernel)",
   "language": "python",
   "name": "python3"
  },
  "language_info": {
   "codemirror_mode": {
    "name": "ipython",
    "version": 3
   },
   "file_extension": ".py",
   "mimetype": "text/x-python",
   "name": "python",
   "nbconvert_exporter": "python",
   "pygments_lexer": "ipython3",
   "version": "3.10.8"
  }
 },
 "nbformat": 4,
 "nbformat_minor": 5
}
