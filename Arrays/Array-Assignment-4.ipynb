{
 "cells": [
  {
   "cell_type": "markdown",
   "id": "647deb4a-3942-489a-9402-c4de4dc0d9cc",
   "metadata": {},
   "source": [
    "\n",
    "### 💡 **Question 1**\n",
    "### Given three integer arrays arr1, arr2 and arr3 **sorted** in **strictly increasing** order, return a sorted array of **only** the integers that appeared in **all** three arrays.\n",
    "\n",
    "### **Example 1:**\n",
    "\n",
    "### Input: arr1 = [1,2,3,4,5], arr2 = [1,2,5,7,9], arr3 = [1,3,4,5,8]\n",
    "\n",
    "### Output: [1,5]\n",
    "\n",
    "### **Explanation:** Only 1 and 5 appeared in the three arrays.\n",
    "\n"
   ]
  },
  {
   "cell_type": "code",
   "execution_count": 3,
   "id": "ee333c72-6fcc-400d-9f8d-730ce49fd40e",
   "metadata": {},
   "outputs": [
    {
     "data": {
      "text/plain": [
       "[1, 5]"
      ]
     },
     "execution_count": 3,
     "metadata": {},
     "output_type": "execute_result"
    }
   ],
   "source": [
    "arr1 = [1,2,3,4,5]\n",
    "arr2 = [1,2,5,7,9]\n",
    "arr3 = [1,3,4,5,8]\n",
    "\n",
    "ans = []\n",
    "def sol(a1, a2, a3):\n",
    "    for i in range(len(a1)):\n",
    "        if a1[i] in a2 and a1[i] in a3:\n",
    "            ans.append(a1[i])\n",
    "    return ans\n",
    "\n",
    "sol(arr1,arr2,arr3)\n"
   ]
  },
  {
   "cell_type": "markdown",
   "id": "e947ab3f-b1f4-4623-ac60-b6b797b3852e",
   "metadata": {},
   "source": [
    "\n",
    "###💡 **Question 2**\n",
    "\n",
    "### Given two **0-indexed** integer arrays nums1 and nums2, return *a list* answer *of size* 2 *where:*\n",
    "\n",
    "### - answer[0] *is a list of all **distinct** integers in* nums1 *which are **not** present in* nums2*.*\n",
    "### - answer[1] *is a list of all **distinct** integers in* nums2 *which are **not** present in* nums1.\n",
    "\n",
    "### **Note** that the integers in the lists may be returned in **any** order.\n",
    "\n",
    "### **Example 1:**\n",
    "\n",
    "###  **Input:** nums1 = [1,2,3], nums2 = [2,4,6]\n",
    "\n",
    "### **Output:** [[1,3],[4,6]]\n",
    "\n",
    "### **Explanation:**\n",
    "\n",
    "### For nums1, nums1[1] = 2 is present at index 0 of nums2, whereas nums1[0] = 1 and nums1[2] = 3 are not present in nums2. Therefore, answer[0] = [1,3].\n",
    "\n",
    "### or nums2, nums2[0] = 2 is present at index 1 of nums1, whereas nums2[1] = 4 and nums2[2] = 6 are not present in nums2. Therefore, answer[1] = [4,6]\n",
    "\n"
   ]
  },
  {
   "cell_type": "code",
   "execution_count": 8,
   "id": "01dfd4b2-917a-43aa-a34e-05a105d81b6e",
   "metadata": {},
   "outputs": [
    {
     "data": {
      "text/plain": [
       "[[1, 3], [4, 6]]"
      ]
     },
     "execution_count": 8,
     "metadata": {},
     "output_type": "execute_result"
    }
   ],
   "source": [
    "\n",
    "def diffrence(nums1, nums2):\n",
    "    n1 = set(nums1)\n",
    "    n2 = set(nums2)\n",
    "    r1 = list(set(x for x in nums1 if x not in n2))\n",
    "    r2 = list(set(x for x in nums2 if x not in n1))\n",
    "    return [r1,r2]\n",
    "    \n",
    "\n",
    "diffrence([1,2,3], [2,4,6])"
   ]
  },
  {
   "cell_type": "markdown",
   "id": "409d6469-76c8-43e6-a239-b8b23b83e44f",
   "metadata": {},
   "source": [
    "\n",
    "### 💡Question 3. Given a 2D integer array matrix, return *the **transpose** of* matrix.\n",
    "\n",
    "### The **transpose** of a matrix is the matrix flipped over its main diagonal, switching the matrix's row and column indices.\n",
    "\n",
    "### **Example 1:**\n",
    "\n",
    "### Input: matrix = [[1,2,3],[4,5,6],[7,8,9]]\n",
    "\n",
    "### Output: [[1,4,7],[2,5,8],[3,6,9]]\n",
    "\n"
   ]
  },
  {
   "cell_type": "code",
   "execution_count": 11,
   "id": "07d95a69-f4bf-4386-aad6-6fc7becc82e8",
   "metadata": {},
   "outputs": [
    {
     "data": {
      "text/plain": [
       "[[1, 4, 7], [2, 5, 8], [3, 6, 9]]"
      ]
     },
     "execution_count": 11,
     "metadata": {},
     "output_type": "execute_result"
    }
   ],
   "source": [
    "def matrixProblem(arr):\n",
    "    j = 0\n",
    "    ans = []\n",
    "    for i in range(len(arr[0])):\n",
    "        arr2 = []\n",
    "        for j in range(len(arr)):\n",
    "            arr2.append(arr[j][i])\n",
    "        ans.append(arr2)\n",
    "    return ans\n",
    "\n",
    "matrixProblem([[1,2,3],[4,5,6],[7,8,9]])\n",
    "        \n",
    "        \n",
    "        "
   ]
  },
  {
   "cell_type": "markdown",
   "id": "6acfc751-b7fd-4f1c-8e4b-702921ad4d21",
   "metadata": {},
   "source": [
    "\n",
    "###  💡Question 4. Given an integer array nums of 2n integers, group these integers into n pairs (a1, b1), (a2, b2), ..., (an, bn) such that the sum of min(ai, bi) for all i is **maximized**. Return *the maximized sum*.\n",
    "\n",
    "###  **Example 1:**\n",
    "\n",
    "###  Input: nums = [1,4,3,2]\n",
    "## \n",
    "###  Output: 4\n",
    "\n",
    "###  **Explanation:** All possible pairings (ignoring the ordering of elements) are:\n",
    "\n",
    "### 1. (1, 4), (2, 3) -> min(1, 4) + min(2, 3) = 1 + 2 = 3\n",
    "\n",
    "###  2. (1, 3), (2, 4) -> min(1, 3) + min(2, 4) = 1 + 2 = 3\n",
    "\n",
    "###  3. (1, 2), (3, 4) -> min(1, 2) + min(3, 4) = 1 + 3 = 4\n",
    "\n",
    "###  So the maximum possible sum is 4.\n"
   ]
  },
  {
   "cell_type": "code",
   "execution_count": 32,
   "id": "c5840861-1f4f-476d-acd1-1e345eec12c0",
   "metadata": {},
   "outputs": [
    {
     "data": {
      "text/plain": [
       "4"
      ]
     },
     "execution_count": 32,
     "metadata": {},
     "output_type": "execute_result"
    }
   ],
   "source": [
    "def posMaxSum(arr):\n",
    "    arr.sort()\n",
    "    ans = 0\n",
    "    for i in range(0, len(arr), 2):\n",
    "        ans += arr[i]\n",
    "    return ans\n",
    "            \n",
    "            \n",
    "        \n",
    "posMaxSum([1,4,3,2])"
   ]
  },
  {
   "cell_type": "markdown",
   "id": "5be5ffca-8b5c-4b91-86df-091eae3d8b6e",
   "metadata": {},
   "source": [
    "\n",
    "### 💡 **Question 5**\n",
    "### You have n coins and you want to build a staircase with these coins. The staircase consists of k rows where the ith row has exactly i coins. The last row of the staircase **may be** incomplete.\n",
    "\n",
    "### Given the integer n, return *the number of **complete rows** of the staircase you will build*.\n",
    "\n",
    "### **Example 1:**\n",
    "\n",
    "### []()\n",
    "\n",
    "### ![v2.jpg](https://s3-us-west-2.amazonaws.com/secure.notion-static.com/4bd91cfa-d2b1-47b3-8197-a72e8dcfff4b/v2.jpg)\n",
    "\n",
    "### **Input:** n = 5\n",
    "\n",
    "### **Output:** 2\n",
    "\n",
    "### **Explanation:** Because the 3rd row is incomplete, we return 2.\n",
    "### \n"
   ]
  },
  {
   "cell_type": "code",
   "execution_count": 35,
   "id": "c0acea98-cf92-4587-8e54-c6d2cfd9d8a6",
   "metadata": {},
   "outputs": [
    {
     "data": {
      "text/plain": [
       "2"
      ]
     },
     "execution_count": 35,
     "metadata": {},
     "output_type": "execute_result"
    }
   ],
   "source": [
    "def SolvCoins(n):\n",
    "    coin_counter = 0\n",
    "    rows = 0\n",
    "        \n",
    "    if n == 1:\n",
    "        return 1\n",
    "\n",
    "    while coin_counter+(rows+1) <= n:\n",
    "        rows += 1\n",
    "        coin_counter += rows\n",
    "        \n",
    "    return rows\n",
    "SolvCoins(5)"
   ]
  },
  {
   "cell_type": "markdown",
   "id": "a33f5bc5-a5cc-4784-b806-82279eea469d",
   "metadata": {},
   "source": [
    "\n",
    "### 💡 **Question 6**\n",
    "### Given an integer array nums sorted in **non-decreasing** order, return *an array of **the squares of each number** sorted in non-decreasing order*.\n",
    "\n",
    "### **Example 1:**\n",
    "\n",
    "### Input: nums = [-4,-1,0,3,10]\n",
    "\n",
    "### Output: [0,1,9,16,100]\n",
    "\n",
    "### **Explanation:** After squaring, the array becomes [16,1,0,9,100].\n",
    "### After sorting, it becomes [0,1,9,16,100]\n",
    "\n"
   ]
  },
  {
   "cell_type": "code",
   "execution_count": 52,
   "id": "ec20ae72-b35e-4f39-b2bb-781d122cf84f",
   "metadata": {},
   "outputs": [
    {
     "data": {
      "text/plain": [
       "[0, 1, 9, 16, 100]"
      ]
     },
     "execution_count": 52,
     "metadata": {},
     "output_type": "execute_result"
    }
   ],
   "source": [
    "def squr(arr):\n",
    "    \n",
    "    arr2 = [i**2 for i in arr]\n",
    "    arr2.sort()\n",
    "    \n",
    "    \n",
    "    return arr2\n",
    "squr([-4,-1,0,3,10])"
   ]
  },
  {
   "cell_type": "markdown",
   "id": "d83717ab-f15d-401f-b5f3-23aa4bd852a2",
   "metadata": {},
   "source": [
    "\n",
    "### 💡 **Question 7**\n",
    "### You are given an m x n matrix M initialized with all 0's and an array of operations ops, where ops[i] = [ai, bi] means M[x][y] should be incremented by one for all 0 <= x < ai and 0 <= y < bi.\n",
    "\n",
    "### Count and return *the number of maximum integers in the matrix after performing all the operations*\n",
    "\n",
    "### **Example 1:**\n",
    "\n",
    "### ![q4.jpg](https://s3-us-west-2.amazonaws.com/secure.notion-static.com/4d0890d0-7bc7-4f59-be8e-352d9f3c1c52/q4.jpg)\n",
    "\n",
    "### **Input:** m = 3, n = 3, ops = [[2,2],[3,3]]\n",
    "\n",
    "### **Output:** 4\n",
    "\n",
    "### **Explanation:** The maximum integer in M is 2, and there are four of it in M. So return 4.\n"
   ]
  },
  {
   "cell_type": "code",
   "execution_count": 56,
   "id": "d7190661-0d44-4ee8-a76b-9819e537d324",
   "metadata": {},
   "outputs": [
    {
     "name": "stdout",
     "output_type": "stream",
     "text": [
      "4\n"
     ]
    }
   ],
   "source": [
    "class Solution:\n",
    "    def maxCount(self, m, n, ops) -> int:\n",
    "        length = len(ops)\n",
    "        if length == 0:\n",
    "            return m*n\n",
    "        result = [ops[0][0] , ops[0][1]]\n",
    "        for i in range(1,length):\n",
    "            result[0] = min(result[0] , ops[i][0])\n",
    "            result[1] = min(result[1] , ops[i][1])\n",
    "        return result[0]*result[1]        \n",
    "    \n",
    "obj = Solution()\n",
    "ans = obj.maxCount(3,3,[[2,2],[3,3]])\n",
    "print(ans)"
   ]
  },
  {
   "cell_type": "markdown",
   "id": "a04492bc-6f7c-464f-9a22-ae53d84fc49f",
   "metadata": {},
   "source": [
    "\n",
    "### 💡 **Question 8**\n",
    "\n",
    "### Given the array nums consisting of 2n elements in the form [x1,x2,...,xn,y1,y2,...,yn].\n",
    "\n",
    "### *Return the array in the form* [x1,y1,x2,y2,...,xn,yn].\n",
    "\n",
    "### **Example 1:**\n",
    "\n",
    "### **Input:** nums = [2,5,1,3,4,7], n = 3\n",
    "\n",
    "### **Output:** [2,3,5,4,1,7]\n",
    "\n",
    "### **Explanation:** Since x1=2, x2=5, x3=1, y1=3, y2=4, y3=7 then the answer is [2,3,5,4,1,7].\n"
   ]
  },
  {
   "cell_type": "code",
   "execution_count": 62,
   "id": "26d653a3-6935-4f21-a932-d958dd430c94",
   "metadata": {},
   "outputs": [
    {
     "name": "stdout",
     "output_type": "stream",
     "text": [
      "[2]\n",
      "[2, 3] 3 this \n",
      "[2, 3, 5]\n",
      "[2, 3, 5, 4] 3 this \n",
      "[2, 3, 5, 4, 1]\n",
      "[2, 3, 5, 4, 1, 7] 3 this \n"
     ]
    },
    {
     "data": {
      "text/plain": [
       "[2, 3, 5, 4, 1, 7]"
      ]
     },
     "execution_count": 62,
     "metadata": {},
     "output_type": "execute_result"
    }
   ],
   "source": [
    "def SolSuffle(nums, n):\n",
    "    ls=[]\n",
    "    for i in range(n):\n",
    "        ls+=[nums[i]]\n",
    "        print(ls)\n",
    "        ls+=[nums[i+n]]\n",
    "        print(ls,n, \"this \")\n",
    "    return ls\n",
    "\n",
    "SolSuffle([2,5,1,3,4,7],3)"
   ]
  },
  {
   "cell_type": "code",
   "execution_count": null,
   "id": "374d8d9e-29d8-4027-ae45-ec961cf81e85",
   "metadata": {},
   "outputs": [],
   "source": []
  }
 ],
 "metadata": {
  "kernelspec": {
   "display_name": "Python 3 (ipykernel)",
   "language": "python",
   "name": "python3"
  },
  "language_info": {
   "codemirror_mode": {
    "name": "ipython",
    "version": 3
   },
   "file_extension": ".py",
   "mimetype": "text/x-python",
   "name": "python",
   "nbconvert_exporter": "python",
   "pygments_lexer": "ipython3",
   "version": "3.10.8"
  }
 },
 "nbformat": 4,
 "nbformat_minor": 5
}
