{
 "cells": [
  {
   "cell_type": "markdown",
   "id": "49d35438-b15f-4578-9000-af45f5784df0",
   "metadata": {},
   "source": [
    "### First Unique Character in a String\n",
    "\n",
    "### Given a string s, find the first non-repeating character in it and return its index. If it does not exist, return -1.\n",
    "\n",
    "### Example 1:\n",
    "### Input: s = \"leetcode\"\n",
    "### Output: 0\n",
    "\n",
    "### Example 2:\n",
    "### Input: s = \"loveleetcode\"\n",
    "### Output: 2\n",
    "\n",
    "### Example 3:\n",
    "### Input: s = \"aabb\"\n",
    "### Output: -1"
   ]
  },
  {
   "cell_type": "code",
   "execution_count": 39,
   "id": "a568e7e1-fd3d-4ea1-bf97-7e1bb58fc641",
   "metadata": {},
   "outputs": [
    {
     "data": {
      "text/plain": [
       "-1"
      ]
     },
     "execution_count": 39,
     "metadata": {},
     "output_type": "execute_result"
    }
   ],
   "source": [
    "def fun(s):\n",
    "    freq = {}\n",
    "    for i in s:\n",
    "        freq[i] = freq.get(i, 0) + 1\n",
    "    for i in range(len(s)):\n",
    "        if freq[s[i]] == 1:\n",
    "            return i\n",
    "    return -1\n",
    "fun(\"aabb\")\n",
    "    \n",
    "        \n",
    "\n",
    "            \n",
    "            \n",
    "        "
   ]
  },
  {
   "cell_type": "code",
   "execution_count": null,
   "id": "9d0e5fbb-e6b9-477a-aacf-6f0e5acece67",
   "metadata": {},
   "outputs": [],
   "source": []
  }
 ],
 "metadata": {
  "kernelspec": {
   "display_name": "Python 3 (ipykernel)",
   "language": "python",
   "name": "python3"
  },
  "language_info": {
   "codemirror_mode": {
    "name": "ipython",
    "version": 3
   },
   "file_extension": ".py",
   "mimetype": "text/x-python",
   "name": "python",
   "nbconvert_exporter": "python",
   "pygments_lexer": "ipython3",
   "version": "3.10.8"
  }
 },
 "nbformat": 4,
 "nbformat_minor": 5
}
